{
 "cells": [
  {
   "cell_type": "markdown",
   "metadata": {},
   "source": [
    "# Messy data"
   ]
  },
  {
   "cell_type": "code",
   "execution_count": 1,
   "metadata": {},
   "outputs": [],
   "source": [
    "import pandas as pd"
   ]
  },
  {
   "cell_type": "code",
   "execution_count": 2,
   "metadata": {},
   "outputs": [],
   "source": [
    "survey_data = pd.read_csv(\"../data/salary_survey_2023.csv\")"
   ]
  },
  {
   "cell_type": "code",
   "execution_count": 3,
   "metadata": {},
   "outputs": [
    {
     "data": {
      "text/plain": [
       "(17164, 20)"
      ]
     },
     "execution_count": 3,
     "metadata": {},
     "output_type": "execute_result"
    }
   ],
   "source": [
    "survey_data.shape"
   ]
  },
  {
   "cell_type": "code",
   "execution_count": 4,
   "metadata": {},
   "outputs": [
    {
     "name": "stdout",
     "output_type": "stream",
     "text": [
      "            Timestamp How old are you?  \\\n",
      "0  4/11/2023 11:02:00            35-44   \n",
      "1  4/11/2023 11:02:07            25-34   \n",
      "\n",
      "                                   Industry  \\\n",
      "0        Government & Public Administration   \n",
      "1  Galleries, Libraries, Archives & Museums   \n",
      "\n",
      "                     Functional area of job                 Job title  \\\n",
      "0              Engineering or Manufacturing        Materials Engineer   \n",
      "1  Galleries, Libraries, Archives & Museums  Assistant Branch Manager   \n",
      "\n",
      "  Job title - additional context  Annual salary (gross)  \\\n",
      "0                            NaN                 125000   \n",
      "1                            NaN                  71000   \n",
      "\n",
      "   Additional monetary compensation Currency Currency - other  \\\n",
      "0                             800.0      USD              NaN   \n",
      "1                               0.0      USD              NaN   \n",
      "\n",
      "  Income - additional context        Country       State            City  \\\n",
      "0                         NaN  United States  California      Ridgecrest   \n",
      "1                         NaN  United States    Virginia  Fairfax County   \n",
      "\n",
      "  Remote or on-site? Years of experience, overall  \\\n",
      "0            On-site                  11-20 years   \n",
      "1            On-site                   8-10 years   \n",
      "\n",
      "  Years of experience in field Highest level of education completed Gender  \\\n",
      "0                  11-20 years                       College degree    Man   \n",
      "1                    5-7 years                      Master's degree    Man   \n",
      "\n",
      "    Race  \n",
      "0  White  \n",
      "1  White  \n"
     ]
    }
   ],
   "source": [
    "print(survey_data.head(2))"
   ]
  },
  {
   "cell_type": "code",
   "execution_count": 5,
   "metadata": {},
   "outputs": [
    {
     "name": "stdout",
     "output_type": "stream",
     "text": [
      "<class 'pandas.core.frame.DataFrame'>\n",
      "RangeIndex: 17164 entries, 0 to 17163\n",
      "Data columns (total 20 columns):\n",
      " #   Column                                Non-Null Count  Dtype  \n",
      "---  ------                                --------------  -----  \n",
      " 0   Timestamp                             17164 non-null  object \n",
      " 1   How old are you?                      17164 non-null  object \n",
      " 2   Industry                              17118 non-null  object \n",
      " 3   Functional area of job                17053 non-null  object \n",
      " 4   Job title                             17164 non-null  object \n",
      " 5   Job title - additional context        3910 non-null   object \n",
      " 6   Annual salary (gross)                 17164 non-null  int64  \n",
      " 7   Additional monetary compensation      13147 non-null  float64\n",
      " 8   Currency                              17164 non-null  object \n",
      " 9   Currency - other                      90 non-null     object \n",
      " 10  Income - additional context           1695 non-null   object \n",
      " 11  Country                               17164 non-null  object \n",
      " 12  State                                 14179 non-null  object \n",
      " 13  City                                  17096 non-null  object \n",
      " 14  Remote or on-site?                    17100 non-null  object \n",
      " 15  Years of experience, overall          17164 non-null  object \n",
      " 16  Years of experience in field          17164 non-null  object \n",
      " 17  Highest level of education completed  17115 non-null  object \n",
      " 18  Gender                                17081 non-null  object \n",
      " 19  Race                                  17095 non-null  object \n",
      "dtypes: float64(1), int64(1), object(18)\n",
      "memory usage: 2.6+ MB\n"
     ]
    }
   ],
   "source": [
    "survey_data.info()"
   ]
  },
  {
   "cell_type": "code",
   "execution_count": 6,
   "metadata": {},
   "outputs": [
    {
     "name": "stdout",
     "output_type": "stream",
     "text": [
      "0: Timestamp\n",
      "1: How old are you?\n",
      "2: Industry\n",
      "3: Functional area of job\n",
      "4: Job title\n",
      "5: Job title - additional context\n",
      "6: Annual salary (gross)\n",
      "7: Additional monetary compensation\n",
      "8: Currency\n",
      "9: Currency - other\n",
      "10: Income - additional context\n",
      "11: Country\n",
      "12: State\n",
      "13: City\n",
      "14: Remote or on-site?\n",
      "15: Years of experience, overall\n",
      "16: Years of experience in field\n",
      "17: Highest level of education completed\n",
      "18: Gender\n",
      "19: Race\n"
     ]
    }
   ],
   "source": [
    "for i, c in enumerate(survey_data.columns):\n",
    "    print(f\"{i}: {c}\") "
   ]
  },
  {
   "cell_type": "code",
   "execution_count": 7,
   "metadata": {},
   "outputs": [
    {
     "data": {
      "text/html": [
       "<div>\n",
       "<style scoped>\n",
       "    .dataframe tbody tr th:only-of-type {\n",
       "        vertical-align: middle;\n",
       "    }\n",
       "\n",
       "    .dataframe tbody tr th {\n",
       "        vertical-align: top;\n",
       "    }\n",
       "\n",
       "    .dataframe thead th {\n",
       "        text-align: right;\n",
       "    }\n",
       "</style>\n",
       "<table border=\"1\" class=\"dataframe\">\n",
       "  <thead>\n",
       "    <tr style=\"text-align: right;\">\n",
       "      <th></th>\n",
       "      <th>Timestamp</th>\n",
       "      <th>How old are you?</th>\n",
       "      <th>Industry</th>\n",
       "      <th>Functional area of job</th>\n",
       "      <th>Job title</th>\n",
       "      <th>Job title - additional context</th>\n",
       "      <th>Annual salary (gross)</th>\n",
       "      <th>Additional monetary compensation</th>\n",
       "      <th>Currency</th>\n",
       "      <th>Currency - other</th>\n",
       "      <th>Income - additional context</th>\n",
       "      <th>Country</th>\n",
       "      <th>State</th>\n",
       "      <th>City</th>\n",
       "      <th>Remote or on-site?</th>\n",
       "      <th>Years of experience, overall</th>\n",
       "      <th>Years of experience in field</th>\n",
       "      <th>Highest level of education completed</th>\n",
       "      <th>Gender</th>\n",
       "      <th>Race</th>\n",
       "    </tr>\n",
       "  </thead>\n",
       "  <tbody>\n",
       "    <tr>\n",
       "      <th>0</th>\n",
       "      <td>4/11/2023 11:02:00</td>\n",
       "      <td>35-44</td>\n",
       "      <td>Government &amp; Public Administration</td>\n",
       "      <td>Engineering or Manufacturing</td>\n",
       "      <td>Materials Engineer</td>\n",
       "      <td>NaN</td>\n",
       "      <td>125000</td>\n",
       "      <td>800.0</td>\n",
       "      <td>USD</td>\n",
       "      <td>NaN</td>\n",
       "      <td>NaN</td>\n",
       "      <td>United States</td>\n",
       "      <td>California</td>\n",
       "      <td>Ridgecrest</td>\n",
       "      <td>On-site</td>\n",
       "      <td>11-20 years</td>\n",
       "      <td>11-20 years</td>\n",
       "      <td>College degree</td>\n",
       "      <td>Man</td>\n",
       "      <td>White</td>\n",
       "    </tr>\n",
       "    <tr>\n",
       "      <th>1</th>\n",
       "      <td>4/11/2023 11:02:07</td>\n",
       "      <td>25-34</td>\n",
       "      <td>Galleries, Libraries, Archives &amp; Museums</td>\n",
       "      <td>Galleries, Libraries, Archives &amp; Museums</td>\n",
       "      <td>Assistant Branch Manager</td>\n",
       "      <td>NaN</td>\n",
       "      <td>71000</td>\n",
       "      <td>0.0</td>\n",
       "      <td>USD</td>\n",
       "      <td>NaN</td>\n",
       "      <td>NaN</td>\n",
       "      <td>United States</td>\n",
       "      <td>Virginia</td>\n",
       "      <td>Fairfax County</td>\n",
       "      <td>On-site</td>\n",
       "      <td>8-10 years</td>\n",
       "      <td>5-7 years</td>\n",
       "      <td>Master's degree</td>\n",
       "      <td>Man</td>\n",
       "      <td>White</td>\n",
       "    </tr>\n",
       "    <tr>\n",
       "      <th>2</th>\n",
       "      <td>4/11/2023 11:02:12</td>\n",
       "      <td>35-44</td>\n",
       "      <td>Education (Higher Education)</td>\n",
       "      <td>Education (Higher Education)</td>\n",
       "      <td>Director of Financial Aid</td>\n",
       "      <td>NaN</td>\n",
       "      <td>60000</td>\n",
       "      <td>0.0</td>\n",
       "      <td>USD</td>\n",
       "      <td>NaN</td>\n",
       "      <td>NaN</td>\n",
       "      <td>United States</td>\n",
       "      <td>Oklahoma</td>\n",
       "      <td>Anadarko</td>\n",
       "      <td>On-site</td>\n",
       "      <td>21-30 years</td>\n",
       "      <td>11-20 years</td>\n",
       "      <td>College degree</td>\n",
       "      <td>Woman</td>\n",
       "      <td>White</td>\n",
       "    </tr>\n",
       "    <tr>\n",
       "      <th>3</th>\n",
       "      <td>4/11/2023 11:02:15</td>\n",
       "      <td>25-34</td>\n",
       "      <td>Education (Higher Education)</td>\n",
       "      <td>Government &amp; Public Administration</td>\n",
       "      <td>Administrative Assistant</td>\n",
       "      <td>NaN</td>\n",
       "      <td>42000</td>\n",
       "      <td>NaN</td>\n",
       "      <td>USD</td>\n",
       "      <td>NaN</td>\n",
       "      <td>NaN</td>\n",
       "      <td>United States</td>\n",
       "      <td>Virginia</td>\n",
       "      <td>Richmond</td>\n",
       "      <td>On-site</td>\n",
       "      <td>2-4 years</td>\n",
       "      <td>2-4 years</td>\n",
       "      <td>College degree</td>\n",
       "      <td>Man</td>\n",
       "      <td>White</td>\n",
       "    </tr>\n",
       "    <tr>\n",
       "      <th>4</th>\n",
       "      <td>4/11/2023 11:02:25</td>\n",
       "      <td>18-24</td>\n",
       "      <td>Accounting, Banking &amp; Finance</td>\n",
       "      <td>Administration</td>\n",
       "      <td>Executive Assistant</td>\n",
       "      <td>NaN</td>\n",
       "      <td>65000</td>\n",
       "      <td>0.0</td>\n",
       "      <td>USD</td>\n",
       "      <td>NaN</td>\n",
       "      <td>NaN</td>\n",
       "      <td>United States</td>\n",
       "      <td>Utah</td>\n",
       "      <td>Orem</td>\n",
       "      <td>On-site</td>\n",
       "      <td>2-4 years</td>\n",
       "      <td>2-4 years</td>\n",
       "      <td>Some college</td>\n",
       "      <td>Woman</td>\n",
       "      <td>White</td>\n",
       "    </tr>\n",
       "    <tr>\n",
       "      <th>...</th>\n",
       "      <td>...</td>\n",
       "      <td>...</td>\n",
       "      <td>...</td>\n",
       "      <td>...</td>\n",
       "      <td>...</td>\n",
       "      <td>...</td>\n",
       "      <td>...</td>\n",
       "      <td>...</td>\n",
       "      <td>...</td>\n",
       "      <td>...</td>\n",
       "      <td>...</td>\n",
       "      <td>...</td>\n",
       "      <td>...</td>\n",
       "      <td>...</td>\n",
       "      <td>...</td>\n",
       "      <td>...</td>\n",
       "      <td>...</td>\n",
       "      <td>...</td>\n",
       "      <td>...</td>\n",
       "      <td>...</td>\n",
       "    </tr>\n",
       "    <tr>\n",
       "      <th>17159</th>\n",
       "      <td>5/22/2024 21:19:00</td>\n",
       "      <td>35-44</td>\n",
       "      <td>Retail</td>\n",
       "      <td>Engineering or Manufacturing</td>\n",
       "      <td>Senior Product Developer</td>\n",
       "      <td>NaN</td>\n",
       "      <td>106000</td>\n",
       "      <td>10000.0</td>\n",
       "      <td>CAD</td>\n",
       "      <td>NaN</td>\n",
       "      <td>NaN</td>\n",
       "      <td>Canada</td>\n",
       "      <td>NaN</td>\n",
       "      <td>Toronto, Ontario</td>\n",
       "      <td>Hybrid</td>\n",
       "      <td>11-20 years</td>\n",
       "      <td>11-20 years</td>\n",
       "      <td>University Degree</td>\n",
       "      <td>Man</td>\n",
       "      <td>White</td>\n",
       "    </tr>\n",
       "    <tr>\n",
       "      <th>17160</th>\n",
       "      <td>6/7/2024 12:18:11</td>\n",
       "      <td>45-54</td>\n",
       "      <td>Nonprofits</td>\n",
       "      <td>Marketing, Advertising &amp; PR</td>\n",
       "      <td>Director of communications</td>\n",
       "      <td>Marketing and communications</td>\n",
       "      <td>86000</td>\n",
       "      <td>0.0</td>\n",
       "      <td>USD</td>\n",
       "      <td>NaN</td>\n",
       "      <td>NaN</td>\n",
       "      <td>United States</td>\n",
       "      <td>Georgia</td>\n",
       "      <td>Powder Springs</td>\n",
       "      <td>On-site</td>\n",
       "      <td>21-30 years</td>\n",
       "      <td>8-10 years</td>\n",
       "      <td>Some college</td>\n",
       "      <td>Man</td>\n",
       "      <td>White</td>\n",
       "    </tr>\n",
       "    <tr>\n",
       "      <th>17161</th>\n",
       "      <td>6/19/2024 10:57:37</td>\n",
       "      <td>45-54</td>\n",
       "      <td>Education (Higher Education)</td>\n",
       "      <td>Education (Higher Education)</td>\n",
       "      <td>lecturer</td>\n",
       "      <td>NaN</td>\n",
       "      <td>72</td>\n",
       "      <td>NaN</td>\n",
       "      <td>EUR</td>\n",
       "      <td>NaN</td>\n",
       "      <td>NaN</td>\n",
       "      <td>Germany</td>\n",
       "      <td>NaN</td>\n",
       "      <td>Bavaria</td>\n",
       "      <td>Hybrid</td>\n",
       "      <td>21-30 years</td>\n",
       "      <td>21-30 years</td>\n",
       "      <td>Master's degree</td>\n",
       "      <td>Woman</td>\n",
       "      <td>White</td>\n",
       "    </tr>\n",
       "    <tr>\n",
       "      <th>17162</th>\n",
       "      <td>6/23/2024 16:11:57</td>\n",
       "      <td>55-64</td>\n",
       "      <td>Health care</td>\n",
       "      <td>Health care</td>\n",
       "      <td>Resource nurse</td>\n",
       "      <td>Infusion specialist</td>\n",
       "      <td>116000</td>\n",
       "      <td>0.0</td>\n",
       "      <td>USD</td>\n",
       "      <td>NaN</td>\n",
       "      <td>NaN</td>\n",
       "      <td>United States</td>\n",
       "      <td>Minnesota</td>\n",
       "      <td>Minneapolis</td>\n",
       "      <td>Hybrid</td>\n",
       "      <td>41 years or more</td>\n",
       "      <td>11-20 years</td>\n",
       "      <td>College degree</td>\n",
       "      <td>Man</td>\n",
       "      <td>White</td>\n",
       "    </tr>\n",
       "    <tr>\n",
       "      <th>17163</th>\n",
       "      <td>7/2/2024 22:34:20</td>\n",
       "      <td>55-64</td>\n",
       "      <td>Sales</td>\n",
       "      <td>Sales</td>\n",
       "      <td>Call Center QA</td>\n",
       "      <td>NaN</td>\n",
       "      <td>62400</td>\n",
       "      <td>0.0</td>\n",
       "      <td>USD</td>\n",
       "      <td>NaN</td>\n",
       "      <td>1099</td>\n",
       "      <td>United States</td>\n",
       "      <td>North Carolina</td>\n",
       "      <td>Raleigh</td>\n",
       "      <td>Fully remote</td>\n",
       "      <td>11-20 years</td>\n",
       "      <td>2-4 years</td>\n",
       "      <td>College degree</td>\n",
       "      <td>Woman</td>\n",
       "      <td>White</td>\n",
       "    </tr>\n",
       "  </tbody>\n",
       "</table>\n",
       "<p>17164 rows × 20 columns</p>\n",
       "</div>"
      ],
      "text/plain": [
       "                Timestamp How old are you?  \\\n",
       "0      4/11/2023 11:02:00            35-44   \n",
       "1      4/11/2023 11:02:07            25-34   \n",
       "2      4/11/2023 11:02:12            35-44   \n",
       "3      4/11/2023 11:02:15            25-34   \n",
       "4      4/11/2023 11:02:25            18-24   \n",
       "...                   ...              ...   \n",
       "17159  5/22/2024 21:19:00            35-44   \n",
       "17160   6/7/2024 12:18:11            45-54   \n",
       "17161  6/19/2024 10:57:37            45-54   \n",
       "17162  6/23/2024 16:11:57            55-64   \n",
       "17163   7/2/2024 22:34:20            55-64   \n",
       "\n",
       "                                       Industry  \\\n",
       "0            Government & Public Administration   \n",
       "1      Galleries, Libraries, Archives & Museums   \n",
       "2                  Education (Higher Education)   \n",
       "3                  Education (Higher Education)   \n",
       "4                 Accounting, Banking & Finance   \n",
       "...                                         ...   \n",
       "17159                                    Retail   \n",
       "17160                                Nonprofits   \n",
       "17161              Education (Higher Education)   \n",
       "17162                               Health care   \n",
       "17163                                     Sales   \n",
       "\n",
       "                         Functional area of job                    Job title  \\\n",
       "0                  Engineering or Manufacturing           Materials Engineer   \n",
       "1      Galleries, Libraries, Archives & Museums     Assistant Branch Manager   \n",
       "2                  Education (Higher Education)    Director of Financial Aid   \n",
       "3            Government & Public Administration     Administrative Assistant   \n",
       "4                                Administration          Executive Assistant   \n",
       "...                                         ...                          ...   \n",
       "17159              Engineering or Manufacturing     Senior Product Developer   \n",
       "17160               Marketing, Advertising & PR  Director of communications    \n",
       "17161              Education (Higher Education)                     lecturer   \n",
       "17162                               Health care               Resource nurse   \n",
       "17163                                     Sales               Call Center QA   \n",
       "\n",
       "      Job title - additional context  Annual salary (gross)  \\\n",
       "0                                NaN                 125000   \n",
       "1                                NaN                  71000   \n",
       "2                                NaN                  60000   \n",
       "3                                NaN                  42000   \n",
       "4                                NaN                  65000   \n",
       "...                              ...                    ...   \n",
       "17159                            NaN                 106000   \n",
       "17160  Marketing and communications                   86000   \n",
       "17161                            NaN                     72   \n",
       "17162            Infusion specialist                 116000   \n",
       "17163                            NaN                  62400   \n",
       "\n",
       "       Additional monetary compensation Currency Currency - other  \\\n",
       "0                                 800.0      USD              NaN   \n",
       "1                                   0.0      USD              NaN   \n",
       "2                                   0.0      USD              NaN   \n",
       "3                                   NaN      USD              NaN   \n",
       "4                                   0.0      USD              NaN   \n",
       "...                                 ...      ...              ...   \n",
       "17159                           10000.0      CAD              NaN   \n",
       "17160                               0.0      USD              NaN   \n",
       "17161                               NaN      EUR              NaN   \n",
       "17162                               0.0      USD              NaN   \n",
       "17163                               0.0      USD              NaN   \n",
       "\n",
       "      Income - additional context        Country           State  \\\n",
       "0                             NaN  United States      California   \n",
       "1                             NaN  United States        Virginia   \n",
       "2                             NaN  United States        Oklahoma   \n",
       "3                             NaN  United States        Virginia   \n",
       "4                             NaN  United States            Utah   \n",
       "...                           ...            ...             ...   \n",
       "17159                         NaN         Canada             NaN   \n",
       "17160                         NaN  United States         Georgia   \n",
       "17161                         NaN        Germany             NaN   \n",
       "17162                         NaN  United States       Minnesota   \n",
       "17163                        1099  United States  North Carolina   \n",
       "\n",
       "                   City Remote or on-site? Years of experience, overall  \\\n",
       "0            Ridgecrest            On-site                  11-20 years   \n",
       "1        Fairfax County            On-site                   8-10 years   \n",
       "2             Anadarko             On-site                  21-30 years   \n",
       "3              Richmond            On-site                    2-4 years   \n",
       "4                  Orem            On-site                    2-4 years   \n",
       "...                 ...                ...                          ...   \n",
       "17159  Toronto, Ontario             Hybrid                  11-20 years   \n",
       "17160    Powder Springs            On-site                  21-30 years   \n",
       "17161           Bavaria             Hybrid                  21-30 years   \n",
       "17162       Minneapolis             Hybrid             41 years or more   \n",
       "17163          Raleigh        Fully remote                  11-20 years   \n",
       "\n",
       "      Years of experience in field Highest level of education completed  \\\n",
       "0                      11-20 years                       College degree   \n",
       "1                        5-7 years                      Master's degree   \n",
       "2                      11-20 years                       College degree   \n",
       "3                        2-4 years                       College degree   \n",
       "4                        2-4 years                         Some college   \n",
       "...                            ...                                  ...   \n",
       "17159                  11-20 years                    University Degree   \n",
       "17160                   8-10 years                         Some college   \n",
       "17161                  21-30 years                      Master's degree   \n",
       "17162                  11-20 years                       College degree   \n",
       "17163                    2-4 years                       College degree   \n",
       "\n",
       "      Gender   Race  \n",
       "0        Man  White  \n",
       "1        Man  White  \n",
       "2      Woman  White  \n",
       "3        Man  White  \n",
       "4      Woman  White  \n",
       "...      ...    ...  \n",
       "17159    Man  White  \n",
       "17160    Man  White  \n",
       "17161  Woman  White  \n",
       "17162    Man  White  \n",
       "17163  Woman  White  \n",
       "\n",
       "[17164 rows x 20 columns]"
      ]
     },
     "execution_count": 7,
     "metadata": {},
     "output_type": "execute_result"
    }
   ],
   "source": [
    "survey_data[survey_data[\"Additional monetary compensation\"].map(lambda x: isinstance(x, float))]"
   ]
  },
  {
   "cell_type": "code",
   "execution_count": 8,
   "metadata": {},
   "outputs": [],
   "source": [
    "non_int_rows = survey_data[survey_data[\"Additional monetary compensation\"] % 1 != 0]"
   ]
  },
  {
   "cell_type": "code",
   "execution_count": 9,
   "metadata": {},
   "outputs": [
    {
     "name": "stdout",
     "output_type": "stream",
     "text": [
      "Shape: (4017,)\n",
      "3       NaN\n",
      "7       NaN\n",
      "8       NaN\n",
      "10      NaN\n",
      "13      NaN\n",
      "         ..\n",
      "17147   NaN\n",
      "17148   NaN\n",
      "17152   NaN\n",
      "17153   NaN\n",
      "17161   NaN\n",
      "Name: Additional monetary compensation, Length: 4017, dtype: float64\n"
     ]
    }
   ],
   "source": [
    "non_int_mask = survey_data[\"Additional monetary compensation\"] % 1 != 0\n",
    "non_int_values = survey_data[non_int_mask].loc[:, \"Additional monetary compensation\"]\n",
    "\n",
    "print(f\"Shape: {non_int_values.shape}\")\n",
    "print(non_int_values)"
   ]
  },
  {
   "cell_type": "code",
   "execution_count": 10,
   "metadata": {},
   "outputs": [
    {
     "data": {
      "text/plain": [
       "3       NaN\n",
       "7       NaN\n",
       "8       NaN\n",
       "10      NaN\n",
       "13      NaN\n",
       "         ..\n",
       "17147   NaN\n",
       "17148   NaN\n",
       "17152   NaN\n",
       "17153   NaN\n",
       "17161   NaN\n",
       "Name: Additional monetary compensation, Length: 4017, dtype: float64"
      ]
     },
     "execution_count": 10,
     "metadata": {},
     "output_type": "execute_result"
    }
   ],
   "source": [
    "survey_data[survey_data[\"Additional monetary compensation\"] % 1 != 0].loc[:, \"Additional monetary compensation\"]"
   ]
  },
  {
   "cell_type": "code",
   "execution_count": 13,
   "metadata": {},
   "outputs": [
    {
     "ename": "SyntaxError",
     "evalue": "invalid syntax (3175131165.py, line 1)",
     "output_type": "error",
     "traceback": [
      "\u001b[0;36m  Cell \u001b[0;32mIn[13], line 1\u001b[0;36m\u001b[0m\n\u001b[0;31m    survey_data.loc[:, \"Additional monetary compensation\"] = survey_data[].map(lambda x: isinstance(x, float))\u001b[0m\n\u001b[0m                                                                         ^\u001b[0m\n\u001b[0;31mSyntaxError\u001b[0m\u001b[0;31m:\u001b[0m invalid syntax\n"
     ]
    }
   ],
   "source": [
    "# survey_data.loc[:, \"Additional monetary compensation\"] = survey_data[].map(lambda x: isinstance(x, float))"
   ]
  },
  {
   "cell_type": "code",
   "execution_count": null,
   "metadata": {},
   "outputs": [
    {
     "data": {
      "text/html": [
       "<div>\n",
       "<style scoped>\n",
       "    .dataframe tbody tr th:only-of-type {\n",
       "        vertical-align: middle;\n",
       "    }\n",
       "\n",
       "    .dataframe tbody tr th {\n",
       "        vertical-align: top;\n",
       "    }\n",
       "\n",
       "    .dataframe thead th {\n",
       "        text-align: right;\n",
       "    }\n",
       "</style>\n",
       "<table border=\"1\" class=\"dataframe\">\n",
       "  <thead>\n",
       "    <tr style=\"text-align: right;\">\n",
       "      <th></th>\n",
       "      <th>Timestamp</th>\n",
       "      <th>How old are you?</th>\n",
       "      <th>Industry</th>\n",
       "      <th>Functional area of job</th>\n",
       "      <th>Job title</th>\n",
       "      <th>Job title - additional context</th>\n",
       "      <th>Annual salary (gross)</th>\n",
       "      <th>Additional monetary compensation</th>\n",
       "      <th>Currency</th>\n",
       "      <th>Currency - other</th>\n",
       "      <th>Income - additional context</th>\n",
       "      <th>Country</th>\n",
       "      <th>State</th>\n",
       "      <th>City</th>\n",
       "      <th>Remote or on-site?</th>\n",
       "      <th>Years of experience, overall</th>\n",
       "      <th>Years of experience in field</th>\n",
       "      <th>Highest level of education completed</th>\n",
       "      <th>Gender</th>\n",
       "      <th>Race</th>\n",
       "    </tr>\n",
       "  </thead>\n",
       "  <tbody>\n",
       "    <tr>\n",
       "      <th>0</th>\n",
       "      <td>4/11/2023 11:02:00</td>\n",
       "      <td>35-44</td>\n",
       "      <td>Government &amp; Public Administration</td>\n",
       "      <td>Engineering or Manufacturing</td>\n",
       "      <td>Materials Engineer</td>\n",
       "      <td>NaN</td>\n",
       "      <td>125000</td>\n",
       "      <td>800.0</td>\n",
       "      <td>USD</td>\n",
       "      <td>NaN</td>\n",
       "      <td>NaN</td>\n",
       "      <td>United States</td>\n",
       "      <td>California</td>\n",
       "      <td>Ridgecrest</td>\n",
       "      <td>On-site</td>\n",
       "      <td>11-20 years</td>\n",
       "      <td>11-20 years</td>\n",
       "      <td>College degree</td>\n",
       "      <td>Man</td>\n",
       "      <td>White</td>\n",
       "    </tr>\n",
       "    <tr>\n",
       "      <th>1</th>\n",
       "      <td>4/11/2023 11:02:07</td>\n",
       "      <td>25-34</td>\n",
       "      <td>Galleries, Libraries, Archives &amp; Museums</td>\n",
       "      <td>Galleries, Libraries, Archives &amp; Museums</td>\n",
       "      <td>Assistant Branch Manager</td>\n",
       "      <td>NaN</td>\n",
       "      <td>71000</td>\n",
       "      <td>0.0</td>\n",
       "      <td>USD</td>\n",
       "      <td>NaN</td>\n",
       "      <td>NaN</td>\n",
       "      <td>United States</td>\n",
       "      <td>Virginia</td>\n",
       "      <td>Fairfax County</td>\n",
       "      <td>On-site</td>\n",
       "      <td>8-10 years</td>\n",
       "      <td>5-7 years</td>\n",
       "      <td>Master's degree</td>\n",
       "      <td>Man</td>\n",
       "      <td>White</td>\n",
       "    </tr>\n",
       "    <tr>\n",
       "      <th>2</th>\n",
       "      <td>4/11/2023 11:02:12</td>\n",
       "      <td>35-44</td>\n",
       "      <td>Education (Higher Education)</td>\n",
       "      <td>Education (Higher Education)</td>\n",
       "      <td>Director of Financial Aid</td>\n",
       "      <td>NaN</td>\n",
       "      <td>60000</td>\n",
       "      <td>0.0</td>\n",
       "      <td>USD</td>\n",
       "      <td>NaN</td>\n",
       "      <td>NaN</td>\n",
       "      <td>United States</td>\n",
       "      <td>Oklahoma</td>\n",
       "      <td>Anadarko</td>\n",
       "      <td>On-site</td>\n",
       "      <td>21-30 years</td>\n",
       "      <td>11-20 years</td>\n",
       "      <td>College degree</td>\n",
       "      <td>Woman</td>\n",
       "      <td>White</td>\n",
       "    </tr>\n",
       "    <tr>\n",
       "      <th>3</th>\n",
       "      <td>4/11/2023 11:02:15</td>\n",
       "      <td>25-34</td>\n",
       "      <td>Education (Higher Education)</td>\n",
       "      <td>Government &amp; Public Administration</td>\n",
       "      <td>Administrative Assistant</td>\n",
       "      <td>NaN</td>\n",
       "      <td>42000</td>\n",
       "      <td>NaN</td>\n",
       "      <td>USD</td>\n",
       "      <td>NaN</td>\n",
       "      <td>NaN</td>\n",
       "      <td>United States</td>\n",
       "      <td>Virginia</td>\n",
       "      <td>Richmond</td>\n",
       "      <td>On-site</td>\n",
       "      <td>2-4 years</td>\n",
       "      <td>2-4 years</td>\n",
       "      <td>College degree</td>\n",
       "      <td>Man</td>\n",
       "      <td>White</td>\n",
       "    </tr>\n",
       "    <tr>\n",
       "      <th>4</th>\n",
       "      <td>4/11/2023 11:02:25</td>\n",
       "      <td>18-24</td>\n",
       "      <td>Accounting, Banking &amp; Finance</td>\n",
       "      <td>Administration</td>\n",
       "      <td>Executive Assistant</td>\n",
       "      <td>NaN</td>\n",
       "      <td>65000</td>\n",
       "      <td>0.0</td>\n",
       "      <td>USD</td>\n",
       "      <td>NaN</td>\n",
       "      <td>NaN</td>\n",
       "      <td>United States</td>\n",
       "      <td>Utah</td>\n",
       "      <td>Orem</td>\n",
       "      <td>On-site</td>\n",
       "      <td>2-4 years</td>\n",
       "      <td>2-4 years</td>\n",
       "      <td>Some college</td>\n",
       "      <td>Woman</td>\n",
       "      <td>White</td>\n",
       "    </tr>\n",
       "    <tr>\n",
       "      <th>...</th>\n",
       "      <td>...</td>\n",
       "      <td>...</td>\n",
       "      <td>...</td>\n",
       "      <td>...</td>\n",
       "      <td>...</td>\n",
       "      <td>...</td>\n",
       "      <td>...</td>\n",
       "      <td>...</td>\n",
       "      <td>...</td>\n",
       "      <td>...</td>\n",
       "      <td>...</td>\n",
       "      <td>...</td>\n",
       "      <td>...</td>\n",
       "      <td>...</td>\n",
       "      <td>...</td>\n",
       "      <td>...</td>\n",
       "      <td>...</td>\n",
       "      <td>...</td>\n",
       "      <td>...</td>\n",
       "      <td>...</td>\n",
       "    </tr>\n",
       "    <tr>\n",
       "      <th>17159</th>\n",
       "      <td>5/22/2024 21:19:00</td>\n",
       "      <td>35-44</td>\n",
       "      <td>Retail</td>\n",
       "      <td>Engineering or Manufacturing</td>\n",
       "      <td>Senior Product Developer</td>\n",
       "      <td>NaN</td>\n",
       "      <td>106000</td>\n",
       "      <td>10000.0</td>\n",
       "      <td>CAD</td>\n",
       "      <td>NaN</td>\n",
       "      <td>NaN</td>\n",
       "      <td>Canada</td>\n",
       "      <td>NaN</td>\n",
       "      <td>Toronto, Ontario</td>\n",
       "      <td>Hybrid</td>\n",
       "      <td>11-20 years</td>\n",
       "      <td>11-20 years</td>\n",
       "      <td>University Degree</td>\n",
       "      <td>Man</td>\n",
       "      <td>White</td>\n",
       "    </tr>\n",
       "    <tr>\n",
       "      <th>17160</th>\n",
       "      <td>6/7/2024 12:18:11</td>\n",
       "      <td>45-54</td>\n",
       "      <td>Nonprofits</td>\n",
       "      <td>Marketing, Advertising &amp; PR</td>\n",
       "      <td>Director of communications</td>\n",
       "      <td>Marketing and communications</td>\n",
       "      <td>86000</td>\n",
       "      <td>0.0</td>\n",
       "      <td>USD</td>\n",
       "      <td>NaN</td>\n",
       "      <td>NaN</td>\n",
       "      <td>United States</td>\n",
       "      <td>Georgia</td>\n",
       "      <td>Powder Springs</td>\n",
       "      <td>On-site</td>\n",
       "      <td>21-30 years</td>\n",
       "      <td>8-10 years</td>\n",
       "      <td>Some college</td>\n",
       "      <td>Man</td>\n",
       "      <td>White</td>\n",
       "    </tr>\n",
       "    <tr>\n",
       "      <th>17161</th>\n",
       "      <td>6/19/2024 10:57:37</td>\n",
       "      <td>45-54</td>\n",
       "      <td>Education (Higher Education)</td>\n",
       "      <td>Education (Higher Education)</td>\n",
       "      <td>lecturer</td>\n",
       "      <td>NaN</td>\n",
       "      <td>72</td>\n",
       "      <td>NaN</td>\n",
       "      <td>EUR</td>\n",
       "      <td>NaN</td>\n",
       "      <td>NaN</td>\n",
       "      <td>Germany</td>\n",
       "      <td>NaN</td>\n",
       "      <td>Bavaria</td>\n",
       "      <td>Hybrid</td>\n",
       "      <td>21-30 years</td>\n",
       "      <td>21-30 years</td>\n",
       "      <td>Master's degree</td>\n",
       "      <td>Woman</td>\n",
       "      <td>White</td>\n",
       "    </tr>\n",
       "    <tr>\n",
       "      <th>17162</th>\n",
       "      <td>6/23/2024 16:11:57</td>\n",
       "      <td>55-64</td>\n",
       "      <td>Health care</td>\n",
       "      <td>Health care</td>\n",
       "      <td>Resource nurse</td>\n",
       "      <td>Infusion specialist</td>\n",
       "      <td>116000</td>\n",
       "      <td>0.0</td>\n",
       "      <td>USD</td>\n",
       "      <td>NaN</td>\n",
       "      <td>NaN</td>\n",
       "      <td>United States</td>\n",
       "      <td>Minnesota</td>\n",
       "      <td>Minneapolis</td>\n",
       "      <td>Hybrid</td>\n",
       "      <td>41 years or more</td>\n",
       "      <td>11-20 years</td>\n",
       "      <td>College degree</td>\n",
       "      <td>Man</td>\n",
       "      <td>White</td>\n",
       "    </tr>\n",
       "    <tr>\n",
       "      <th>17163</th>\n",
       "      <td>7/2/2024 22:34:20</td>\n",
       "      <td>55-64</td>\n",
       "      <td>Sales</td>\n",
       "      <td>Sales</td>\n",
       "      <td>Call Center QA</td>\n",
       "      <td>NaN</td>\n",
       "      <td>62400</td>\n",
       "      <td>0.0</td>\n",
       "      <td>USD</td>\n",
       "      <td>NaN</td>\n",
       "      <td>1099</td>\n",
       "      <td>United States</td>\n",
       "      <td>North Carolina</td>\n",
       "      <td>Raleigh</td>\n",
       "      <td>Fully remote</td>\n",
       "      <td>11-20 years</td>\n",
       "      <td>2-4 years</td>\n",
       "      <td>College degree</td>\n",
       "      <td>Woman</td>\n",
       "      <td>White</td>\n",
       "    </tr>\n",
       "  </tbody>\n",
       "</table>\n",
       "<p>17164 rows × 20 columns</p>\n",
       "</div>"
      ],
      "text/plain": [
       "                Timestamp How old are you?  \\\n",
       "0      4/11/2023 11:02:00            35-44   \n",
       "1      4/11/2023 11:02:07            25-34   \n",
       "2      4/11/2023 11:02:12            35-44   \n",
       "3      4/11/2023 11:02:15            25-34   \n",
       "4      4/11/2023 11:02:25            18-24   \n",
       "...                   ...              ...   \n",
       "17159  5/22/2024 21:19:00            35-44   \n",
       "17160   6/7/2024 12:18:11            45-54   \n",
       "17161  6/19/2024 10:57:37            45-54   \n",
       "17162  6/23/2024 16:11:57            55-64   \n",
       "17163   7/2/2024 22:34:20            55-64   \n",
       "\n",
       "                                       Industry  \\\n",
       "0            Government & Public Administration   \n",
       "1      Galleries, Libraries, Archives & Museums   \n",
       "2                  Education (Higher Education)   \n",
       "3                  Education (Higher Education)   \n",
       "4                 Accounting, Banking & Finance   \n",
       "...                                         ...   \n",
       "17159                                    Retail   \n",
       "17160                                Nonprofits   \n",
       "17161              Education (Higher Education)   \n",
       "17162                               Health care   \n",
       "17163                                     Sales   \n",
       "\n",
       "                         Functional area of job                    Job title  \\\n",
       "0                  Engineering or Manufacturing           Materials Engineer   \n",
       "1      Galleries, Libraries, Archives & Museums     Assistant Branch Manager   \n",
       "2                  Education (Higher Education)    Director of Financial Aid   \n",
       "3            Government & Public Administration     Administrative Assistant   \n",
       "4                                Administration          Executive Assistant   \n",
       "...                                         ...                          ...   \n",
       "17159              Engineering or Manufacturing     Senior Product Developer   \n",
       "17160               Marketing, Advertising & PR  Director of communications    \n",
       "17161              Education (Higher Education)                     lecturer   \n",
       "17162                               Health care               Resource nurse   \n",
       "17163                                     Sales               Call Center QA   \n",
       "\n",
       "      Job title - additional context  Annual salary (gross)  \\\n",
       "0                                NaN                 125000   \n",
       "1                                NaN                  71000   \n",
       "2                                NaN                  60000   \n",
       "3                                NaN                  42000   \n",
       "4                                NaN                  65000   \n",
       "...                              ...                    ...   \n",
       "17159                            NaN                 106000   \n",
       "17160  Marketing and communications                   86000   \n",
       "17161                            NaN                     72   \n",
       "17162            Infusion specialist                 116000   \n",
       "17163                            NaN                  62400   \n",
       "\n",
       "       Additional monetary compensation Currency Currency - other  \\\n",
       "0                                 800.0      USD              NaN   \n",
       "1                                   0.0      USD              NaN   \n",
       "2                                   0.0      USD              NaN   \n",
       "3                                   NaN      USD              NaN   \n",
       "4                                   0.0      USD              NaN   \n",
       "...                                 ...      ...              ...   \n",
       "17159                           10000.0      CAD              NaN   \n",
       "17160                               0.0      USD              NaN   \n",
       "17161                               NaN      EUR              NaN   \n",
       "17162                               0.0      USD              NaN   \n",
       "17163                               0.0      USD              NaN   \n",
       "\n",
       "      Income - additional context        Country           State  \\\n",
       "0                             NaN  United States      California   \n",
       "1                             NaN  United States        Virginia   \n",
       "2                             NaN  United States        Oklahoma   \n",
       "3                             NaN  United States        Virginia   \n",
       "4                             NaN  United States            Utah   \n",
       "...                           ...            ...             ...   \n",
       "17159                         NaN         Canada             NaN   \n",
       "17160                         NaN  United States         Georgia   \n",
       "17161                         NaN        Germany             NaN   \n",
       "17162                         NaN  United States       Minnesota   \n",
       "17163                        1099  United States  North Carolina   \n",
       "\n",
       "                   City Remote or on-site? Years of experience, overall  \\\n",
       "0            Ridgecrest            On-site                  11-20 years   \n",
       "1        Fairfax County            On-site                   8-10 years   \n",
       "2             Anadarko             On-site                  21-30 years   \n",
       "3              Richmond            On-site                    2-4 years   \n",
       "4                  Orem            On-site                    2-4 years   \n",
       "...                 ...                ...                          ...   \n",
       "17159  Toronto, Ontario             Hybrid                  11-20 years   \n",
       "17160    Powder Springs            On-site                  21-30 years   \n",
       "17161           Bavaria             Hybrid                  21-30 years   \n",
       "17162       Minneapolis             Hybrid             41 years or more   \n",
       "17163          Raleigh        Fully remote                  11-20 years   \n",
       "\n",
       "      Years of experience in field Highest level of education completed  \\\n",
       "0                      11-20 years                       College degree   \n",
       "1                        5-7 years                      Master's degree   \n",
       "2                      11-20 years                       College degree   \n",
       "3                        2-4 years                       College degree   \n",
       "4                        2-4 years                         Some college   \n",
       "...                            ...                                  ...   \n",
       "17159                  11-20 years                    University Degree   \n",
       "17160                   8-10 years                         Some college   \n",
       "17161                  21-30 years                      Master's degree   \n",
       "17162                  11-20 years                       College degree   \n",
       "17163                    2-4 years                       College degree   \n",
       "\n",
       "      Gender   Race  \n",
       "0        Man  White  \n",
       "1        Man  White  \n",
       "2      Woman  White  \n",
       "3        Man  White  \n",
       "4      Woman  White  \n",
       "...      ...    ...  \n",
       "17159    Man  White  \n",
       "17160    Man  White  \n",
       "17161  Woman  White  \n",
       "17162    Man  White  \n",
       "17163  Woman  White  \n",
       "\n",
       "[17164 rows x 20 columns]"
      ]
     },
     "execution_count": 27,
     "metadata": {},
     "output_type": "execute_result"
    }
   ],
   "source": [
    "survey_data"
   ]
  },
  {
   "cell_type": "code",
   "execution_count": 23,
   "metadata": {},
   "outputs": [],
   "source": [
    "survey_data.fillna(value={\"Additional monetary compensation\": 0}, inplace=True)"
   ]
  },
  {
   "cell_type": "code",
   "execution_count": 16,
   "metadata": {},
   "outputs": [
    {
     "data": {
      "text/plain": [
       "0          800.0\n",
       "1            0.0\n",
       "2            0.0\n",
       "3            NaN\n",
       "4            0.0\n",
       "          ...   \n",
       "17159    10000.0\n",
       "17160        0.0\n",
       "17161        NaN\n",
       "17162        0.0\n",
       "17163        0.0\n",
       "Name: Additional monetary compensation, Length: 17164, dtype: float64"
      ]
     },
     "execution_count": 16,
     "metadata": {},
     "output_type": "execute_result"
    }
   ],
   "source": [
    "survey_data[\"Additional monetary compensation\"]"
   ]
  },
  {
   "cell_type": "code",
   "execution_count": 24,
   "metadata": {},
   "outputs": [
    {
     "data": {
      "text/plain": [
       "Series([], Name: Additional monetary compensation, dtype: float64)"
      ]
     },
     "execution_count": 24,
     "metadata": {},
     "output_type": "execute_result"
    }
   ],
   "source": [
    "survey_data[survey_data[\"Additional monetary compensation\"] % 1 != 0].loc[:, \"Additional monetary compensation\"]"
   ]
  },
  {
   "cell_type": "code",
   "execution_count": 40,
   "metadata": {},
   "outputs": [],
   "source": [
    "survey_data[\"Additional monetary compensation\"] = survey_data.loc[:, \"Additional monetary compensation\"].astype(int)"
   ]
  },
  {
   "cell_type": "code",
   "execution_count": 41,
   "metadata": {},
   "outputs": [
    {
     "data": {
      "text/plain": [
       "0          800\n",
       "1            0\n",
       "2            0\n",
       "3            0\n",
       "4            0\n",
       "         ...  \n",
       "17159    10000\n",
       "17160        0\n",
       "17161        0\n",
       "17162        0\n",
       "17163        0\n",
       "Name: Additional monetary compensation, Length: 17164, dtype: int64"
      ]
     },
     "execution_count": 41,
     "metadata": {},
     "output_type": "execute_result"
    }
   ],
   "source": [
    "survey_data.loc[:, \"Additional monetary compensation\"]"
   ]
  },
  {
   "cell_type": "code",
   "execution_count": 42,
   "metadata": {},
   "outputs": [
    {
     "data": {
      "text/plain": [
       "Index(['Timestamp', 'How old are you?', 'Industry', 'Functional area of job',\n",
       "       'Job title', 'Job title - additional context', 'Annual salary (gross)',\n",
       "       'Additional monetary compensation', 'Currency', 'Currency - other',\n",
       "       'Income - additional context', 'Country', 'State', 'City',\n",
       "       'Remote or on-site?', 'Years of experience, overall',\n",
       "       'Years of experience in field', 'Highest level of education completed',\n",
       "       'Gender', 'Race'],\n",
       "      dtype='object')"
      ]
     },
     "execution_count": 42,
     "metadata": {},
     "output_type": "execute_result"
    }
   ],
   "source": [
    "survey_data.columns"
   ]
  },
  {
   "cell_type": "code",
   "execution_count": 44,
   "metadata": {},
   "outputs": [
    {
     "name": "stdout",
     "output_type": "stream",
     "text": [
      "Timestamp\n",
      "How old are you?\n",
      "Industry\n",
      "Functional area of job\n",
      "Job title\n",
      "Job title - additional context\n",
      "Annual salary (gross)\n",
      "Additional monetary compensation\n",
      "Currency\n",
      "Currency - other\n",
      "Income - additional context\n",
      "Country\n",
      "State\n",
      "City\n",
      "Remote or on-site?\n",
      "Years of experience, overall\n",
      "Years of experience in field\n",
      "Highest level of education completed\n",
      "Gender\n",
      "Race\n"
     ]
    }
   ],
   "source": [
    "print(\"\\n\".join(list(survey_data.columns)))"
   ]
  },
  {
   "cell_type": "code",
   "execution_count": 45,
   "metadata": {},
   "outputs": [],
   "source": [
    "survey_data[\"Total compensation\"] = survey_data.loc[:, \"Annual salary (gross)\"] + survey_data.loc[:, \"Additional monetary compensation\"]"
   ]
  },
  {
   "cell_type": "code",
   "execution_count": 46,
   "metadata": {},
   "outputs": [
    {
     "data": {
      "text/plain": [
       "0        125800\n",
       "1         71000\n",
       "2         60000\n",
       "3         42000\n",
       "4         65000\n",
       "          ...  \n",
       "17159    116000\n",
       "17160     86000\n",
       "17161        72\n",
       "17162    116000\n",
       "17163     62400\n",
       "Name: Total compensation, Length: 17164, dtype: int64"
      ]
     },
     "execution_count": 46,
     "metadata": {},
     "output_type": "execute_result"
    }
   ],
   "source": [
    "survey_data[\"Total compensation\"]"
   ]
  },
  {
   "cell_type": "code",
   "execution_count": 52,
   "metadata": {},
   "outputs": [
    {
     "data": {
      "text/plain": [
       "Currency\n",
       "USD        14318\n",
       "CAD         1099\n",
       "GBP          857\n",
       "EUR          370\n",
       "AUD/NZD      366\n",
       "Other         68\n",
       "SEK           33\n",
       "CHF           27\n",
       "JPY           13\n",
       "ZAR            8\n",
       "HKD            5\n",
       "Name: count, dtype: int64"
      ]
     },
     "execution_count": 52,
     "metadata": {},
     "output_type": "execute_result"
    }
   ],
   "source": [
    "survey_data[\"Currency\"].value_counts()"
   ]
  },
  {
   "cell_type": "code",
   "execution_count": 72,
   "metadata": {},
   "outputs": [
    {
     "data": {
      "text/plain": [
       "Country\n",
       "United States                 14235\n",
       "Canada                         1107\n",
       "United Kingdom                  865\n",
       "Australia                       285\n",
       "Germany                         134\n",
       "                              ...  \n",
       "Aotearoa New Zealand              1\n",
       "Iceland for a U.S. company        1\n",
       "MEXICO                            1\n",
       "Sub-saharan Africa                1\n",
       "New zealand                       1\n",
       "Name: count, Length: 119, dtype: int64"
      ]
     },
     "execution_count": 72,
     "metadata": {},
     "output_type": "execute_result"
    }
   ],
   "source": [
    "survey_data[\"Country\"].value_counts()"
   ]
  },
  {
   "cell_type": "markdown",
   "metadata": {},
   "source": [
    "## Drop AUS/NZD rows"
   ]
  },
  {
   "cell_type": "code",
   "execution_count": 83,
   "metadata": {},
   "outputs": [
    {
     "data": {
      "text/plain": [
       "(17164, 21)"
      ]
     },
     "execution_count": 83,
     "metadata": {},
     "output_type": "execute_result"
    }
   ],
   "source": [
    "survey_data.shape"
   ]
  },
  {
   "cell_type": "code",
   "execution_count": 87,
   "metadata": {},
   "outputs": [
    {
     "data": {
      "text/plain": [
       "Index([  529,   810,  1270,  1576,  1872,  2131,  3003,  3061,  5538,  5716,\n",
       "       ...\n",
       "       16858, 16867, 16897, 16923, 16925, 16960, 17009, 17089, 17123, 17136],\n",
       "      dtype='int64', length=366)"
      ]
     },
     "execution_count": 87,
     "metadata": {},
     "output_type": "execute_result"
    }
   ],
   "source": [
    "survey_data[(survey_data[\"Currency\"] == \"AUD/NZD\")].index"
   ]
  },
  {
   "cell_type": "code",
   "execution_count": 88,
   "metadata": {},
   "outputs": [],
   "source": [
    "survey_data_no_aus = survey_data.drop(survey_data[(survey_data[\"Currency\"] == \"AUD/NZD\")].index)"
   ]
  },
  {
   "cell_type": "code",
   "execution_count": 89,
   "metadata": {},
   "outputs": [
    {
     "data": {
      "text/plain": [
       "Currency\n",
       "USD      14318\n",
       "CAD       1099\n",
       "GBP        857\n",
       "EUR        370\n",
       "Other       68\n",
       "SEK         33\n",
       "CHF         27\n",
       "JPY         13\n",
       "ZAR          8\n",
       "HKD          5\n",
       "Name: count, dtype: int64"
      ]
     },
     "execution_count": 89,
     "metadata": {},
     "output_type": "execute_result"
    }
   ],
   "source": [
    "survey_data_no_aus[\"Currency\"].value_counts()"
   ]
  },
  {
   "cell_type": "code",
   "execution_count": 98,
   "metadata": {},
   "outputs": [
    {
     "data": {
      "text/html": [
       "<div>\n",
       "<style scoped>\n",
       "    .dataframe tbody tr th:only-of-type {\n",
       "        vertical-align: middle;\n",
       "    }\n",
       "\n",
       "    .dataframe tbody tr th {\n",
       "        vertical-align: top;\n",
       "    }\n",
       "\n",
       "    .dataframe thead th {\n",
       "        text-align: right;\n",
       "    }\n",
       "</style>\n",
       "<table border=\"1\" class=\"dataframe\">\n",
       "  <thead>\n",
       "    <tr style=\"text-align: right;\">\n",
       "      <th></th>\n",
       "      <th>Timestamp</th>\n",
       "      <th>How old are you?</th>\n",
       "      <th>Industry</th>\n",
       "      <th>Functional area of job</th>\n",
       "      <th>Job title</th>\n",
       "      <th>Job title - additional context</th>\n",
       "      <th>Annual salary (gross)</th>\n",
       "      <th>Additional monetary compensation</th>\n",
       "      <th>Currency</th>\n",
       "      <th>Currency - other</th>\n",
       "      <th>...</th>\n",
       "      <th>Country</th>\n",
       "      <th>State</th>\n",
       "      <th>City</th>\n",
       "      <th>Remote or on-site?</th>\n",
       "      <th>Years of experience, overall</th>\n",
       "      <th>Years of experience in field</th>\n",
       "      <th>Highest level of education completed</th>\n",
       "      <th>Gender</th>\n",
       "      <th>Race</th>\n",
       "      <th>Total compensation</th>\n",
       "    </tr>\n",
       "  </thead>\n",
       "  <tbody>\n",
       "    <tr>\n",
       "      <th>6212</th>\n",
       "      <td>4/11/2023 13:39:42</td>\n",
       "      <td>35-44</td>\n",
       "      <td>Health care</td>\n",
       "      <td>Administration</td>\n",
       "      <td>Practice Supervisor</td>\n",
       "      <td>NaN</td>\n",
       "      <td>54000</td>\n",
       "      <td>0</td>\n",
       "      <td>USD</td>\n",
       "      <td>0</td>\n",
       "      <td>...</td>\n",
       "      <td>United States</td>\n",
       "      <td>Pennsylvania</td>\n",
       "      <td>Philadelphia</td>\n",
       "      <td>On-site</td>\n",
       "      <td>11-20 years</td>\n",
       "      <td>2-4 years</td>\n",
       "      <td>College degree</td>\n",
       "      <td>Man</td>\n",
       "      <td>White</td>\n",
       "      <td>54000</td>\n",
       "    </tr>\n",
       "    <tr>\n",
       "      <th>13078</th>\n",
       "      <td>4/12/2023 14:52:53</td>\n",
       "      <td>25-34</td>\n",
       "      <td>Government &amp; Public Administration</td>\n",
       "      <td>Government &amp; Public Administration</td>\n",
       "      <td>Policy Advisor</td>\n",
       "      <td>NaN</td>\n",
       "      <td>102000</td>\n",
       "      <td>0</td>\n",
       "      <td>CAD</td>\n",
       "      <td>0</td>\n",
       "      <td>...</td>\n",
       "      <td>Canada</td>\n",
       "      <td>NaN</td>\n",
       "      <td>Ottawa, Ontario</td>\n",
       "      <td>Hybrid</td>\n",
       "      <td>8-10 years</td>\n",
       "      <td>5-7 years</td>\n",
       "      <td>Master's degree</td>\n",
       "      <td>Woman</td>\n",
       "      <td>White</td>\n",
       "      <td>102000</td>\n",
       "    </tr>\n",
       "    <tr>\n",
       "      <th>16861</th>\n",
       "      <td>7/16/2023 11:10:51</td>\n",
       "      <td>45-54</td>\n",
       "      <td>Engineering or Manufacturing</td>\n",
       "      <td>Engineering or Manufacturing</td>\n",
       "      <td>Applications engineer</td>\n",
       "      <td>NaN</td>\n",
       "      <td>112000</td>\n",
       "      <td>0</td>\n",
       "      <td>USD</td>\n",
       "      <td>0</td>\n",
       "      <td>...</td>\n",
       "      <td>United States</td>\n",
       "      <td>Texas</td>\n",
       "      <td>Denton</td>\n",
       "      <td>On-site</td>\n",
       "      <td>11-20 years</td>\n",
       "      <td>21-30 years</td>\n",
       "      <td>College degree</td>\n",
       "      <td>Man</td>\n",
       "      <td>White</td>\n",
       "      <td>112000</td>\n",
       "    </tr>\n",
       "  </tbody>\n",
       "</table>\n",
       "<p>3 rows × 21 columns</p>\n",
       "</div>"
      ],
      "text/plain": [
       "                Timestamp How old are you?  \\\n",
       "6212   4/11/2023 13:39:42            35-44   \n",
       "13078  4/12/2023 14:52:53            25-34   \n",
       "16861  7/16/2023 11:10:51            45-54   \n",
       "\n",
       "                                 Industry              Functional area of job  \\\n",
       "6212                          Health care                      Administration   \n",
       "13078  Government & Public Administration  Government & Public Administration   \n",
       "16861        Engineering or Manufacturing        Engineering or Manufacturing   \n",
       "\n",
       "                   Job title Job title - additional context  \\\n",
       "6212    Practice Supervisor                             NaN   \n",
       "13078         Policy Advisor                            NaN   \n",
       "16861  Applications engineer                            NaN   \n",
       "\n",
       "       Annual salary (gross)  Additional monetary compensation Currency  \\\n",
       "6212                   54000                                 0      USD   \n",
       "13078                 102000                                 0      CAD   \n",
       "16861                 112000                                 0      USD   \n",
       "\n",
       "      Currency - other  ...        Country         State             City  \\\n",
       "6212                 0  ...  United States  Pennsylvania    Philadelphia    \n",
       "13078                0  ...         Canada           NaN  Ottawa, Ontario   \n",
       "16861                0  ...  United States         Texas          Denton    \n",
       "\n",
       "      Remote or on-site? Years of experience, overall  \\\n",
       "6212             On-site                  11-20 years   \n",
       "13078             Hybrid                   8-10 years   \n",
       "16861            On-site                  11-20 years   \n",
       "\n",
       "      Years of experience in field Highest level of education completed  \\\n",
       "6212                     2-4 years                       College degree   \n",
       "13078                    5-7 years                      Master's degree   \n",
       "16861                  21-30 years                       College degree   \n",
       "\n",
       "      Gender   Race Total compensation  \n",
       "6212     Man  White              54000  \n",
       "13078  Woman  White             102000  \n",
       "16861    Man  White             112000  \n",
       "\n",
       "[3 rows x 21 columns]"
      ]
     },
     "execution_count": 98,
     "metadata": {},
     "output_type": "execute_result"
    }
   ],
   "source": [
    "survey_data[survey_data[\"Currency - other\"] == \"0\"]"
   ]
  },
  {
   "cell_type": "code",
   "execution_count": 70,
   "metadata": {},
   "outputs": [
    {
     "data": {
      "text/plain": [
       "np.int64(2)"
      ]
     },
     "execution_count": 70,
     "metadata": {},
     "output_type": "execute_result"
    }
   ],
   "source": [
    "survey_data[\"Currency - other\"].dropna().value_counts()[\"PLN \"]"
   ]
  },
  {
   "cell_type": "code",
   "execution_count": 68,
   "metadata": {},
   "outputs": [
    {
     "data": {
      "text/plain": [
       "np.int64(4)"
      ]
     },
     "execution_count": 68,
     "metadata": {},
     "output_type": "execute_result"
    }
   ],
   "source": [
    "survey_data[\"Currency - other\"].dropna().map(lambda x: x.startswith(\"PLN\")).sum()"
   ]
  },
  {
   "cell_type": "code",
   "execution_count": 62,
   "metadata": {},
   "outputs": [
    {
     "data": {
      "text/plain": [
       "(49,)"
      ]
     },
     "execution_count": 62,
     "metadata": {},
     "output_type": "execute_result"
    }
   ],
   "source": [
    "survey_data[\"Currency - other\"].value_counts().shape"
   ]
  },
  {
   "cell_type": "code",
   "execution_count": 152,
   "metadata": {},
   "outputs": [],
   "source": [
    "exchange_rates = pd.read_csv(\"../data/average_csv_2023-12.csv\")"
   ]
  },
  {
   "cell_type": "code",
   "execution_count": 153,
   "metadata": {},
   "outputs": [
    {
     "name": "stdout",
     "output_type": "stream",
     "text": [
      "     Country    Unit Of Currency Currency Code  \\\n",
      "0  Abu Dhabi              Dirham           AED   \n",
      "1    Albania                 Lek           ALL   \n",
      "2    Algeria               Dinar           DZD   \n",
      "3     Angola        Readj Kwanza           AOA   \n",
      "4    Antigua  E Caribbean Dollar           XCD   \n",
      "\n",
      "   Sterling value of Currency Unit £  Currency Units per £1  \n",
      "0                             0.2190                 4.5660  \n",
      "1                             0.0079               125.9306  \n",
      "2                             0.0059               169.2453  \n",
      "3                             0.0012               834.3142  \n",
      "4                             0.2978                 3.3578  \n"
     ]
    }
   ],
   "source": [
    "print(exchange_rates.head())"
   ]
  },
  {
   "cell_type": "code",
   "execution_count": 157,
   "metadata": {},
   "outputs": [
    {
     "data": {
      "text/plain": [
       "(161, 5)"
      ]
     },
     "execution_count": 157,
     "metadata": {},
     "output_type": "execute_result"
    }
   ],
   "source": [
    "exchange_rates.shape"
   ]
  },
  {
   "cell_type": "code",
   "execution_count": 164,
   "metadata": {},
   "outputs": [
    {
     "name": "stdout",
     "output_type": "stream",
     "text": [
      "Currency Code\n",
      "AED    0.2190\n",
      "ALL    0.0079\n",
      "DZD    0.0059\n",
      "AOA    0.0012\n",
      "XCD    0.2978\n",
      "Name: Sterling value of Currency Unit £, dtype: float64\n"
     ]
    }
   ],
   "source": [
    "exch_map = exchange_rates.loc[:, [\"Currency Code\", \"Sterling value of Currency Unit £\"]]  # Copy the two colums we're interested in\n",
    "exch_map.drop_duplicates(keep='first', inplace=True)  # Get rid of duplicate rows\n",
    "exch_map.set_index(\"Currency Code\", inplace=True) # Use the \"Currency Code\" column as the index\n",
    "exch_map = exch_map.iloc[:, 0]  # Take only the column at position 0 (this is also the only column)\n",
    "print(exch_map.head())"
   ]
  },
  {
   "cell_type": "code",
   "execution_count": 165,
   "metadata": {},
   "outputs": [
    {
     "data": {
      "text/plain": [
       "(139,)"
      ]
     },
     "execution_count": 165,
     "metadata": {},
     "output_type": "execute_result"
    }
   ],
   "source": [
    "exch_map.shape"
   ]
  },
  {
   "cell_type": "code",
   "execution_count": 130,
   "metadata": {},
   "outputs": [
    {
     "data": {
      "text/plain": [
       "np.float64(0.8044)"
      ]
     },
     "execution_count": 130,
     "metadata": {},
     "output_type": "execute_result"
    }
   ],
   "source": [
    "exch_map[\"USD\"]"
   ]
  },
  {
   "cell_type": "code",
   "execution_count": 122,
   "metadata": {},
   "outputs": [
    {
     "data": {
      "text/plain": [
       "np.int64(15873)"
      ]
     },
     "execution_count": 122,
     "metadata": {},
     "output_type": "execute_result"
    }
   ],
   "source": [
    "survey_data[\"Currency\"].isin(exchange_rates[\"Currency Code\"]).sum()"
   ]
  },
  {
   "cell_type": "code",
   "execution_count": 129,
   "metadata": {},
   "outputs": [
    {
     "data": {
      "text/plain": [
       "np.int64(15873)"
      ]
     },
     "execution_count": 129,
     "metadata": {},
     "output_type": "execute_result"
    }
   ],
   "source": [
    "survey_data[\"Currency\"].isin(exch_map.index).sum()"
   ]
  },
  {
   "cell_type": "code",
   "execution_count": 132,
   "metadata": {},
   "outputs": [
    {
     "data": {
      "text/plain": [
       "0        USD\n",
       "1        USD\n",
       "2        USD\n",
       "3        USD\n",
       "4        USD\n",
       "        ... \n",
       "17159    CAD\n",
       "17160    USD\n",
       "17161    EUR\n",
       "17162    USD\n",
       "17163    USD\n",
       "Name: Currency, Length: 17164, dtype: object"
      ]
     },
     "execution_count": 132,
     "metadata": {},
     "output_type": "execute_result"
    }
   ],
   "source": [
    "survey_data[\"Currency\"]"
   ]
  },
  {
   "cell_type": "code",
   "execution_count": 137,
   "metadata": {},
   "outputs": [
    {
     "data": {
      "text/plain": [
       "Currency Code\n",
       "XOF    8\n",
       "XCD    7\n",
       "XAF    6\n",
       "AED    3\n",
       "XPF    3\n",
       "Name: count, dtype: int64"
      ]
     },
     "execution_count": 137,
     "metadata": {},
     "output_type": "execute_result"
    }
   ],
   "source": [
    "exch_map.index.value_counts()[exch_map.index.value_counts() > 1]"
   ]
  },
  {
   "cell_type": "code",
   "execution_count": 158,
   "metadata": {},
   "outputs": [
    {
     "data": {
      "text/plain": [
       "(139,)"
      ]
     },
     "execution_count": 158,
     "metadata": {},
     "output_type": "execute_result"
    }
   ],
   "source": [
    "exch_map.index.drop_duplicates().shape"
   ]
  },
  {
   "cell_type": "code",
   "execution_count": 141,
   "metadata": {},
   "outputs": [
    {
     "data": {
      "text/plain": [
       "Currency Code\n",
       "AED    0.2190\n",
       "AED    0.2190\n",
       "AED    0.2190\n",
       "ALL    0.0079\n",
       "DZD    0.0059\n",
       "        ...  \n",
       "VND    0.0000\n",
       "WST    0.2948\n",
       "YER    0.0032\n",
       "ZMW    0.0412\n",
       "ZWL    0.0006\n",
       "Name: Sterling value of Currency Unit £, Length: 161, dtype: float64"
      ]
     },
     "execution_count": 141,
     "metadata": {},
     "output_type": "execute_result"
    }
   ],
   "source": [
    "exch_map[exch_map.index.drop_duplicates()]"
   ]
  },
  {
   "cell_type": "code",
   "execution_count": 142,
   "metadata": {},
   "outputs": [
    {
     "data": {
      "text/plain": [
       "(161,)"
      ]
     },
     "execution_count": 142,
     "metadata": {},
     "output_type": "execute_result"
    }
   ],
   "source": [
    "exch_map.index.shape"
   ]
  },
  {
   "cell_type": "code",
   "execution_count": 143,
   "metadata": {},
   "outputs": [
    {
     "data": {
      "text/plain": [
       "Index(['AED', 'ALL', 'DZD', 'AOA', 'XCD', 'ARS', 'AMD', 'AWG', 'AUD', 'AZN',\n",
       "       ...\n",
       "       'UAH', 'UYU', 'USD', 'UZS', 'VUV', 'VND', 'WST', 'YER', 'ZMW', 'ZWL'],\n",
       "      dtype='object', name='Currency Code', length=139)"
      ]
     },
     "execution_count": 143,
     "metadata": {},
     "output_type": "execute_result"
    }
   ],
   "source": [
    "exch_map.index.drop_duplicates()"
   ]
  },
  {
   "cell_type": "code",
   "execution_count": 166,
   "metadata": {},
   "outputs": [
    {
     "data": {
      "text/plain": [
       "np.float64(0.219)"
      ]
     },
     "execution_count": 166,
     "metadata": {},
     "output_type": "execute_result"
    }
   ],
   "source": [
    "exch_map[\"AED\"]"
   ]
  },
  {
   "cell_type": "code",
   "execution_count": 171,
   "metadata": {},
   "outputs": [
    {
     "data": {
      "text/plain": [
       "Currency\n",
       "GBP        857\n",
       "AUD/NZD    366\n",
       "Other       68\n",
       "Name: count, dtype: int64"
      ]
     },
     "execution_count": 171,
     "metadata": {},
     "output_type": "execute_result"
    }
   ],
   "source": [
    "survey_data[~survey_data[\"Currency\"].isin(exch_map.index)].loc[:, \"Currency\"].value_counts()"
   ]
  },
  {
   "cell_type": "code",
   "execution_count": 172,
   "metadata": {},
   "outputs": [],
   "source": [
    "exch_map[\"GBP\"] = 1"
   ]
  },
  {
   "cell_type": "code",
   "execution_count": 173,
   "metadata": {},
   "outputs": [
    {
     "data": {
      "text/plain": [
       "Currency\n",
       "AUD/NZD    366\n",
       "Other       68\n",
       "Name: count, dtype: int64"
      ]
     },
     "execution_count": 173,
     "metadata": {},
     "output_type": "execute_result"
    }
   ],
   "source": [
    "survey_data[~survey_data[\"Currency\"].isin(exch_map.index)].loc[:, \"Currency\"].value_counts()"
   ]
  },
  {
   "cell_type": "code",
   "execution_count": 174,
   "metadata": {},
   "outputs": [
    {
     "data": {
      "text/plain": [
       "Currency - other\n",
       "SGD                 9\n",
       "NOK                 8\n",
       "NZD                 7\n",
       "CZK                 4\n",
       "DKK                 4\n",
       "BRL                 3\n",
       "0                   3\n",
       "MXN                 3\n",
       "HUF                 2\n",
       "AUD                 2\n",
       "PLN                 2\n",
       "PLN                 2\n",
       "Danish Kroner       2\n",
       "INR                 2\n",
       "ILS                 2\n",
       "N/a                 2\n",
       "HKD                 1\n",
       "BGN                 1\n",
       "Chinese Renminbi    1\n",
       "Bulgarian lev       1\n",
       "Name: count, dtype: int64"
      ]
     },
     "execution_count": 174,
     "metadata": {},
     "output_type": "execute_result"
    }
   ],
   "source": [
    "survey_data[\"Currency - other\"].value_counts().head(20)\n"
   ]
  },
  {
   "cell_type": "code",
   "execution_count": 175,
   "metadata": {},
   "outputs": [
    {
     "data": {
      "text/plain": [
       "Currency - other\n",
       "0                                                                                                                  3\n",
       "PLN                                                                                                                2\n",
       "N/a                                                                                                                2\n",
       "Danish Kroner                                                                                                      2\n",
       "end-of-year bonus is a double paycheck                                                                             1\n",
       "USD                                                                                                                1\n",
       "Pln                                                                                                                1\n",
       "Dkk                                                                                                                1\n",
       "NIS                                                                                                                1\n",
       "5200 education benefit                                                                                             1\n",
       "Quarterly bonuses                                                                                                  1\n",
       "BGR                                                                                                                1\n",
       "Pension and 401k matching                                                                                          1\n",
       "Bulgarian lev                                                                                                      1\n",
       "Chinese Renminbi                                                                                                   1\n",
       "Indian Rupee                                                                                                       1\n",
       "Sgd                                                                                                                1\n",
       "NOK                                                                                                                1\n",
       "Just noting that AUD and NZD are very different :) - I'm paid in AUD                                               1\n",
       "Additional comp is in USD                                                                                          1\n",
       "Tuition Reimbursement                                                                                              1\n",
       "Female                                                                                                             1\n",
       "variable annual bonus                                                                                              1\n",
       "Trinidad and Tobago dollars                                                                                        1\n",
       "My employer pays for a round trip flight home to the US each year, as well as providing a stipend for housing.     1\n",
       "Mexican Pesos                                                                                                      1\n",
       "Stock options and other compensation                                                                               1\n",
       "Icelandic krona (ISK)                                                                                              1\n",
       "Polish złoty (PLN)                                                                                                 1\n",
       "Name: count, dtype: int64"
      ]
     },
     "execution_count": 175,
     "metadata": {},
     "output_type": "execute_result"
    }
   ],
   "source": [
    "survey_data[~survey_data[\"Currency - other\"].isin(exch_map.index)].loc[:, \"Currency - other\"].value_counts()"
   ]
  },
  {
   "cell_type": "code",
   "execution_count": 200,
   "metadata": {},
   "outputs": [],
   "source": [
    "survey_data_no_aus[\"GBP exchange rate\"] = survey_data_no_aus[\"Currency\"].map(exch_map)"
   ]
  },
  {
   "cell_type": "code",
   "execution_count": 201,
   "metadata": {},
   "outputs": [
    {
     "data": {
      "text/plain": [
       "GBP exchange rate\n",
       "0.8044    14318\n",
       "0.5965     1099\n",
       "1.0000      857\n",
       "0.8700      370\n",
       "0.0761       33\n",
       "0.8936       27\n",
       "0.0058       13\n",
       "0.0440        8\n",
       "0.1028        5\n",
       "Name: count, dtype: int64"
      ]
     },
     "execution_count": 201,
     "metadata": {},
     "output_type": "execute_result"
    }
   ],
   "source": [
    "survey_data_no_aus[\"GBP exchange rate\"].value_counts()"
   ]
  },
  {
   "cell_type": "code",
   "execution_count": 202,
   "metadata": {},
   "outputs": [
    {
     "data": {
      "text/html": [
       "<div>\n",
       "<style scoped>\n",
       "    .dataframe tbody tr th:only-of-type {\n",
       "        vertical-align: middle;\n",
       "    }\n",
       "\n",
       "    .dataframe tbody tr th {\n",
       "        vertical-align: top;\n",
       "    }\n",
       "\n",
       "    .dataframe thead th {\n",
       "        text-align: right;\n",
       "    }\n",
       "</style>\n",
       "<table border=\"1\" class=\"dataframe\">\n",
       "  <thead>\n",
       "    <tr style=\"text-align: right;\">\n",
       "      <th></th>\n",
       "      <th>Timestamp</th>\n",
       "      <th>How old are you?</th>\n",
       "      <th>Industry</th>\n",
       "      <th>Functional area of job</th>\n",
       "      <th>Job title</th>\n",
       "      <th>Job title - additional context</th>\n",
       "      <th>Annual salary (gross)</th>\n",
       "      <th>Additional monetary compensation</th>\n",
       "      <th>Currency</th>\n",
       "      <th>Currency - other</th>\n",
       "      <th>...</th>\n",
       "      <th>City</th>\n",
       "      <th>Remote or on-site?</th>\n",
       "      <th>Years of experience, overall</th>\n",
       "      <th>Years of experience in field</th>\n",
       "      <th>Highest level of education completed</th>\n",
       "      <th>Gender</th>\n",
       "      <th>Race</th>\n",
       "      <th>Total compensation</th>\n",
       "      <th>GBP_exchange_rate</th>\n",
       "      <th>GBP exchange rate</th>\n",
       "    </tr>\n",
       "  </thead>\n",
       "  <tbody>\n",
       "    <tr>\n",
       "      <th>135</th>\n",
       "      <td>4/11/2023 11:06:28</td>\n",
       "      <td>35-44</td>\n",
       "      <td>Galleries, Libraries, Archives &amp; Museums</td>\n",
       "      <td>Galleries, Libraries, Archives &amp; Museums</td>\n",
       "      <td>Librarian</td>\n",
       "      <td>NaN</td>\n",
       "      <td>530000</td>\n",
       "      <td>0</td>\n",
       "      <td>Other</td>\n",
       "      <td>NOK</td>\n",
       "      <td>...</td>\n",
       "      <td>Nordland</td>\n",
       "      <td>On-site</td>\n",
       "      <td>21-30 years</td>\n",
       "      <td>11-20 years</td>\n",
       "      <td>College degree</td>\n",
       "      <td>Woman</td>\n",
       "      <td>White</td>\n",
       "      <td>530000</td>\n",
       "      <td>NaN</td>\n",
       "      <td>NaN</td>\n",
       "    </tr>\n",
       "    <tr>\n",
       "      <th>641</th>\n",
       "      <td>4/11/2023 11:14:37</td>\n",
       "      <td>35-44</td>\n",
       "      <td>Education (Higher Education)</td>\n",
       "      <td>Education (Higher Education)</td>\n",
       "      <td>Associate Professor</td>\n",
       "      <td></td>\n",
       "      <td>638760</td>\n",
       "      <td>0</td>\n",
       "      <td>Other</td>\n",
       "      <td>Danish Kroner</td>\n",
       "      <td>...</td>\n",
       "      <td>Copenhagen</td>\n",
       "      <td>On-site</td>\n",
       "      <td>8-10 years</td>\n",
       "      <td>8-10 years</td>\n",
       "      <td>PhD</td>\n",
       "      <td>Man</td>\n",
       "      <td>White</td>\n",
       "      <td>638760</td>\n",
       "      <td>NaN</td>\n",
       "      <td>NaN</td>\n",
       "    </tr>\n",
       "    <tr>\n",
       "      <th>1191</th>\n",
       "      <td>4/11/2023 11:22:18</td>\n",
       "      <td>25-34</td>\n",
       "      <td>Business or Consulting</td>\n",
       "      <td>Business or Consulting</td>\n",
       "      <td>Project Manager</td>\n",
       "      <td>NaN</td>\n",
       "      <td>210000</td>\n",
       "      <td>18000</td>\n",
       "      <td>Other</td>\n",
       "      <td>PLN</td>\n",
       "      <td>...</td>\n",
       "      <td>Warsaw</td>\n",
       "      <td>Hybrid</td>\n",
       "      <td>11-20 years</td>\n",
       "      <td>8-10 years</td>\n",
       "      <td>Master's degree</td>\n",
       "      <td>Man</td>\n",
       "      <td>White</td>\n",
       "      <td>228000</td>\n",
       "      <td>NaN</td>\n",
       "      <td>NaN</td>\n",
       "    </tr>\n",
       "    <tr>\n",
       "      <th>1503</th>\n",
       "      <td>4/11/2023 11:26:06</td>\n",
       "      <td>25-34</td>\n",
       "      <td>Business or Consulting</td>\n",
       "      <td>Business or Consulting</td>\n",
       "      <td>Regional Manager</td>\n",
       "      <td>NaN</td>\n",
       "      <td>96000</td>\n",
       "      <td>0</td>\n",
       "      <td>Other</td>\n",
       "      <td>SGD</td>\n",
       "      <td>...</td>\n",
       "      <td>Singapore</td>\n",
       "      <td>On-site</td>\n",
       "      <td>8-10 years</td>\n",
       "      <td>5-7 years</td>\n",
       "      <td>Master's degree</td>\n",
       "      <td>NaN</td>\n",
       "      <td>NaN</td>\n",
       "      <td>96000</td>\n",
       "      <td>NaN</td>\n",
       "      <td>NaN</td>\n",
       "    </tr>\n",
       "    <tr>\n",
       "      <th>2258</th>\n",
       "      <td>4/11/2023 11:38:49</td>\n",
       "      <td>35-44</td>\n",
       "      <td>Computing or Tech</td>\n",
       "      <td>Computing or Tech</td>\n",
       "      <td>System analyst and Developer</td>\n",
       "      <td>NaN</td>\n",
       "      <td>100000</td>\n",
       "      <td>0</td>\n",
       "      <td>Other</td>\n",
       "      <td>BRL</td>\n",
       "      <td>...</td>\n",
       "      <td>Lavras - Minas Gerais</td>\n",
       "      <td>Fully remote</td>\n",
       "      <td>11-20 years</td>\n",
       "      <td>11-20 years</td>\n",
       "      <td>Some college</td>\n",
       "      <td>Man</td>\n",
       "      <td>White</td>\n",
       "      <td>100000</td>\n",
       "      <td>NaN</td>\n",
       "      <td>NaN</td>\n",
       "    </tr>\n",
       "    <tr>\n",
       "      <th>...</th>\n",
       "      <td>...</td>\n",
       "      <td>...</td>\n",
       "      <td>...</td>\n",
       "      <td>...</td>\n",
       "      <td>...</td>\n",
       "      <td>...</td>\n",
       "      <td>...</td>\n",
       "      <td>...</td>\n",
       "      <td>...</td>\n",
       "      <td>...</td>\n",
       "      <td>...</td>\n",
       "      <td>...</td>\n",
       "      <td>...</td>\n",
       "      <td>...</td>\n",
       "      <td>...</td>\n",
       "      <td>...</td>\n",
       "      <td>...</td>\n",
       "      <td>...</td>\n",
       "      <td>...</td>\n",
       "      <td>...</td>\n",
       "      <td>...</td>\n",
       "    </tr>\n",
       "    <tr>\n",
       "      <th>16432</th>\n",
       "      <td>4/21/2023 8:38:41</td>\n",
       "      <td>25-34</td>\n",
       "      <td>Marketing, Advertising &amp; PR</td>\n",
       "      <td>Marketing, Advertising &amp; PR</td>\n",
       "      <td>Freelance PR Consultant/Copywriter</td>\n",
       "      <td>NaN</td>\n",
       "      <td>115000</td>\n",
       "      <td>0</td>\n",
       "      <td>Other</td>\n",
       "      <td>BMD</td>\n",
       "      <td>...</td>\n",
       "      <td>Hamilton</td>\n",
       "      <td>Fully remote</td>\n",
       "      <td>11-20 years</td>\n",
       "      <td>8-10 years</td>\n",
       "      <td>Master's degree</td>\n",
       "      <td>Woman</td>\n",
       "      <td>White</td>\n",
       "      <td>115000</td>\n",
       "      <td>NaN</td>\n",
       "      <td>NaN</td>\n",
       "    </tr>\n",
       "    <tr>\n",
       "      <th>16629</th>\n",
       "      <td>4/30/2023 11:15:26</td>\n",
       "      <td>35-44</td>\n",
       "      <td>Accounting, Banking &amp; Finance</td>\n",
       "      <td>Computing or Tech</td>\n",
       "      <td>Product Manager</td>\n",
       "      <td>NaN</td>\n",
       "      <td>73000</td>\n",
       "      <td>0</td>\n",
       "      <td>Other</td>\n",
       "      <td>DKK</td>\n",
       "      <td>...</td>\n",
       "      <td>Copenhagen</td>\n",
       "      <td>On-site</td>\n",
       "      <td>11-20 years</td>\n",
       "      <td>8-10 years</td>\n",
       "      <td>Master's degree</td>\n",
       "      <td>Woman</td>\n",
       "      <td>White</td>\n",
       "      <td>73000</td>\n",
       "      <td>NaN</td>\n",
       "      <td>NaN</td>\n",
       "    </tr>\n",
       "    <tr>\n",
       "      <th>16630</th>\n",
       "      <td>4/30/2023 11:32:06</td>\n",
       "      <td>35-44</td>\n",
       "      <td>Accounting, Banking &amp; Finance</td>\n",
       "      <td>Computing or Tech</td>\n",
       "      <td>Product Manager</td>\n",
       "      <td>NaN</td>\n",
       "      <td>876000</td>\n",
       "      <td>0</td>\n",
       "      <td>Other</td>\n",
       "      <td>DKK</td>\n",
       "      <td>...</td>\n",
       "      <td>Copenhagen</td>\n",
       "      <td>On-site</td>\n",
       "      <td>11-20 years</td>\n",
       "      <td>8-10 years</td>\n",
       "      <td>Master's degree</td>\n",
       "      <td>Woman</td>\n",
       "      <td>White</td>\n",
       "      <td>876000</td>\n",
       "      <td>NaN</td>\n",
       "      <td>NaN</td>\n",
       "    </tr>\n",
       "    <tr>\n",
       "      <th>16707</th>\n",
       "      <td>5/12/2023 4:58:50</td>\n",
       "      <td>25-34</td>\n",
       "      <td>Marketing, Advertising &amp; PR</td>\n",
       "      <td>Marketing, Advertising &amp; PR</td>\n",
       "      <td>E-Commerce Executives</td>\n",
       "      <td>To help client book, execute, and gaining GMV ...</td>\n",
       "      <td>125000000</td>\n",
       "      <td>20000000</td>\n",
       "      <td>Other</td>\n",
       "      <td>IDR</td>\n",
       "      <td>...</td>\n",
       "      <td>Depok</td>\n",
       "      <td>Hybrid</td>\n",
       "      <td>2-4 years</td>\n",
       "      <td>2-4 years</td>\n",
       "      <td>NaN</td>\n",
       "      <td>Man</td>\n",
       "      <td>Another option not listed here or prefer not t...</td>\n",
       "      <td>145000000</td>\n",
       "      <td>NaN</td>\n",
       "      <td>NaN</td>\n",
       "    </tr>\n",
       "    <tr>\n",
       "      <th>16989</th>\n",
       "      <td>9/17/2023 22:43:19</td>\n",
       "      <td>25-34</td>\n",
       "      <td>Education (Higher Education)</td>\n",
       "      <td>Marketing, Advertising &amp; PR</td>\n",
       "      <td>Content and PR Specialist</td>\n",
       "      <td>NaN</td>\n",
       "      <td>45600</td>\n",
       "      <td>0</td>\n",
       "      <td>Other</td>\n",
       "      <td>SGD</td>\n",
       "      <td>...</td>\n",
       "      <td>Singapore</td>\n",
       "      <td>Hybrid</td>\n",
       "      <td>2-4 years</td>\n",
       "      <td>2-4 years</td>\n",
       "      <td>College degree</td>\n",
       "      <td>Woman</td>\n",
       "      <td>Asian or Asian American</td>\n",
       "      <td>45600</td>\n",
       "      <td>NaN</td>\n",
       "      <td>NaN</td>\n",
       "    </tr>\n",
       "  </tbody>\n",
       "</table>\n",
       "<p>68 rows × 23 columns</p>\n",
       "</div>"
      ],
      "text/plain": [
       "                Timestamp How old are you?  \\\n",
       "135    4/11/2023 11:06:28            35-44   \n",
       "641    4/11/2023 11:14:37            35-44   \n",
       "1191   4/11/2023 11:22:18            25-34   \n",
       "1503   4/11/2023 11:26:06            25-34   \n",
       "2258   4/11/2023 11:38:49            35-44   \n",
       "...                   ...              ...   \n",
       "16432   4/21/2023 8:38:41            25-34   \n",
       "16629  4/30/2023 11:15:26            35-44   \n",
       "16630  4/30/2023 11:32:06            35-44   \n",
       "16707   5/12/2023 4:58:50            25-34   \n",
       "16989  9/17/2023 22:43:19            25-34   \n",
       "\n",
       "                                       Industry  \\\n",
       "135    Galleries, Libraries, Archives & Museums   \n",
       "641                Education (Higher Education)   \n",
       "1191                     Business or Consulting   \n",
       "1503                     Business or Consulting   \n",
       "2258                          Computing or Tech   \n",
       "...                                         ...   \n",
       "16432               Marketing, Advertising & PR   \n",
       "16629             Accounting, Banking & Finance   \n",
       "16630             Accounting, Banking & Finance   \n",
       "16707               Marketing, Advertising & PR   \n",
       "16989              Education (Higher Education)   \n",
       "\n",
       "                         Functional area of job  \\\n",
       "135    Galleries, Libraries, Archives & Museums   \n",
       "641                Education (Higher Education)   \n",
       "1191                     Business or Consulting   \n",
       "1503                     Business or Consulting   \n",
       "2258                          Computing or Tech   \n",
       "...                                         ...   \n",
       "16432               Marketing, Advertising & PR   \n",
       "16629                         Computing or Tech   \n",
       "16630                         Computing or Tech   \n",
       "16707               Marketing, Advertising & PR   \n",
       "16989               Marketing, Advertising & PR   \n",
       "\n",
       "                                Job title  \\\n",
       "135                             Librarian   \n",
       "641                   Associate Professor   \n",
       "1191                      Project Manager   \n",
       "1503                     Regional Manager   \n",
       "2258         System analyst and Developer   \n",
       "...                                   ...   \n",
       "16432  Freelance PR Consultant/Copywriter   \n",
       "16629                     Product Manager   \n",
       "16630                     Product Manager   \n",
       "16707               E-Commerce Executives   \n",
       "16989           Content and PR Specialist   \n",
       "\n",
       "                          Job title - additional context  \\\n",
       "135                                                  NaN   \n",
       "641                                                        \n",
       "1191                                                 NaN   \n",
       "1503                                                 NaN   \n",
       "2258                                                 NaN   \n",
       "...                                                  ...   \n",
       "16432                                                NaN   \n",
       "16629                                                NaN   \n",
       "16630                                                NaN   \n",
       "16707  To help client book, execute, and gaining GMV ...   \n",
       "16989                                                NaN   \n",
       "\n",
       "       Annual salary (gross)  Additional monetary compensation Currency  \\\n",
       "135                   530000                                 0    Other   \n",
       "641                   638760                                 0    Other   \n",
       "1191                  210000                             18000    Other   \n",
       "1503                   96000                                 0    Other   \n",
       "2258                  100000                                 0    Other   \n",
       "...                      ...                               ...      ...   \n",
       "16432                 115000                                 0    Other   \n",
       "16629                  73000                                 0    Other   \n",
       "16630                 876000                                 0    Other   \n",
       "16707              125000000                          20000000    Other   \n",
       "16989                  45600                                 0    Other   \n",
       "\n",
       "      Currency - other  ...                   City Remote or on-site?  \\\n",
       "135                NOK  ...               Nordland            On-site   \n",
       "641      Danish Kroner  ...             Copenhagen            On-site   \n",
       "1191              PLN   ...                 Warsaw             Hybrid   \n",
       "1503               SGD  ...              Singapore            On-site   \n",
       "2258               BRL  ...  Lavras - Minas Gerais       Fully remote   \n",
       "...                ...  ...                    ...                ...   \n",
       "16432              BMD  ...               Hamilton       Fully remote   \n",
       "16629              DKK  ...             Copenhagen            On-site   \n",
       "16630              DKK  ...             Copenhagen            On-site   \n",
       "16707              IDR  ...                  Depok             Hybrid   \n",
       "16989              SGD  ...              Singapore             Hybrid   \n",
       "\n",
       "      Years of experience, overall Years of experience in field  \\\n",
       "135                    21-30 years                  11-20 years   \n",
       "641                     8-10 years                   8-10 years   \n",
       "1191                   11-20 years                   8-10 years   \n",
       "1503                    8-10 years                    5-7 years   \n",
       "2258                   11-20 years                  11-20 years   \n",
       "...                            ...                          ...   \n",
       "16432                  11-20 years                   8-10 years   \n",
       "16629                  11-20 years                   8-10 years   \n",
       "16630                  11-20 years                   8-10 years   \n",
       "16707                    2-4 years                    2-4 years   \n",
       "16989                    2-4 years                    2-4 years   \n",
       "\n",
       "      Highest level of education completed Gender  \\\n",
       "135                         College degree  Woman   \n",
       "641                                    PhD    Man   \n",
       "1191                       Master's degree    Man   \n",
       "1503                       Master's degree    NaN   \n",
       "2258                          Some college    Man   \n",
       "...                                    ...    ...   \n",
       "16432                      Master's degree  Woman   \n",
       "16629                      Master's degree  Woman   \n",
       "16630                      Master's degree  Woman   \n",
       "16707                                  NaN    Man   \n",
       "16989                       College degree  Woman   \n",
       "\n",
       "                                                    Race Total compensation  \\\n",
       "135                                                White             530000   \n",
       "641                                                White             638760   \n",
       "1191                                               White             228000   \n",
       "1503                                                 NaN              96000   \n",
       "2258                                               White             100000   \n",
       "...                                                  ...                ...   \n",
       "16432                                              White             115000   \n",
       "16629                                              White              73000   \n",
       "16630                                              White             876000   \n",
       "16707  Another option not listed here or prefer not t...          145000000   \n",
       "16989                            Asian or Asian American              45600   \n",
       "\n",
       "      GBP_exchange_rate GBP exchange rate  \n",
       "135                 NaN               NaN  \n",
       "641                 NaN               NaN  \n",
       "1191                NaN               NaN  \n",
       "1503                NaN               NaN  \n",
       "2258                NaN               NaN  \n",
       "...                 ...               ...  \n",
       "16432               NaN               NaN  \n",
       "16629               NaN               NaN  \n",
       "16630               NaN               NaN  \n",
       "16707               NaN               NaN  \n",
       "16989               NaN               NaN  \n",
       "\n",
       "[68 rows x 23 columns]"
      ]
     },
     "execution_count": 202,
     "metadata": {},
     "output_type": "execute_result"
    }
   ],
   "source": [
    "survey_data_no_aus[survey_data_no_aus[\"GBP exchange rate\"].isna()]"
   ]
  },
  {
   "cell_type": "code",
   "execution_count": 211,
   "metadata": {},
   "outputs": [
    {
     "data": {
      "text/plain": [
       "Currency - other\n",
       "SGD                          9\n",
       "NOK                          8\n",
       "CZK                          4\n",
       "DKK                          4\n",
       "NZD                          3\n",
       "MXN                          3\n",
       "BRL                          3\n",
       "0                            3\n",
       "PLN                          2\n",
       "HUF                          2\n",
       "INR                          2\n",
       "AUD                          2\n",
       "Danish Kroner                2\n",
       "N/a                          2\n",
       "ILS                          2\n",
       "PLN                          2\n",
       "Pension and 401k matching    1\n",
       "Chinese Renminbi             1\n",
       "BGN                          1\n",
       "HKD                          1\n",
       "Name: count, dtype: int64"
      ]
     },
     "execution_count": 211,
     "metadata": {},
     "output_type": "execute_result"
    }
   ],
   "source": [
    "survey_data_no_aus[\"Currency - other\"].value_counts().head(20)\n"
   ]
  },
  {
   "cell_type": "code",
   "execution_count": 215,
   "metadata": {},
   "outputs": [
    {
     "data": {
      "text/plain": [
       "Currency - cleaned\n",
       "NOK                          9\n",
       "SGD                          9\n",
       "CZK                          4\n",
       "PLN                          4\n",
       "DKK                          4\n",
       "BRL                          3\n",
       "NZD                          3\n",
       "MXN                          3\n",
       "0                            3\n",
       "INR                          2\n",
       "N/a                          2\n",
       "HUF                          2\n",
       "AUD                          2\n",
       "USD                          2\n",
       "Danish Kroner                2\n",
       "ILS                          2\n",
       "variable annual bonus        1\n",
       "Quarterly bonuses            1\n",
       "Bulgarian lev                1\n",
       "Pension and 401k matching    1\n",
       "Name: count, dtype: int64"
      ]
     },
     "execution_count": 215,
     "metadata": {},
     "output_type": "execute_result"
    }
   ],
   "source": [
    "curr_not_na_mask = ~survey_data_no_aus[\"Currency - other\"].isna()\n",
    "survey_data_no_aus[\"Currency - cleaned\"] = survey_data_no_aus[\"Currency - other\"][curr_not_na_mask].map(str.strip)\n",
    "survey_data_no_aus[\"Currency - cleaned\"].value_counts().head(20)"
   ]
  },
  {
   "cell_type": "code",
   "execution_count": 220,
   "metadata": {},
   "outputs": [
    {
     "data": {
      "text/html": [
       "<div>\n",
       "<style scoped>\n",
       "    .dataframe tbody tr th:only-of-type {\n",
       "        vertical-align: middle;\n",
       "    }\n",
       "\n",
       "    .dataframe tbody tr th {\n",
       "        vertical-align: top;\n",
       "    }\n",
       "\n",
       "    .dataframe thead th {\n",
       "        text-align: right;\n",
       "    }\n",
       "</style>\n",
       "<table border=\"1\" class=\"dataframe\">\n",
       "  <thead>\n",
       "    <tr style=\"text-align: right;\">\n",
       "      <th></th>\n",
       "      <th>Timestamp</th>\n",
       "      <th>How old are you?</th>\n",
       "      <th>Industry</th>\n",
       "      <th>Functional area of job</th>\n",
       "      <th>Job title</th>\n",
       "      <th>Job title - additional context</th>\n",
       "      <th>Annual salary (gross)</th>\n",
       "      <th>Additional monetary compensation</th>\n",
       "      <th>Currency</th>\n",
       "      <th>Currency - other</th>\n",
       "      <th>...</th>\n",
       "      <th>Remote or on-site?</th>\n",
       "      <th>Years of experience, overall</th>\n",
       "      <th>Years of experience in field</th>\n",
       "      <th>Highest level of education completed</th>\n",
       "      <th>Gender</th>\n",
       "      <th>Race</th>\n",
       "      <th>Total compensation</th>\n",
       "      <th>GBP_exchange_rate</th>\n",
       "      <th>GBP exchange rate</th>\n",
       "      <th>Currency - cleaned</th>\n",
       "    </tr>\n",
       "  </thead>\n",
       "  <tbody>\n",
       "    <tr>\n",
       "      <th>7971</th>\n",
       "      <td>4/11/2023 15:40:42</td>\n",
       "      <td>35-44</td>\n",
       "      <td>Government &amp; Public Administration</td>\n",
       "      <td>Recruitment or HR</td>\n",
       "      <td>Senior Consultant Leadership and Talent</td>\n",
       "      <td>NaN</td>\n",
       "      <td>110000</td>\n",
       "      <td>0</td>\n",
       "      <td>Other</td>\n",
       "      <td>AUD</td>\n",
       "      <td>...</td>\n",
       "      <td>On-site</td>\n",
       "      <td>11-20 years</td>\n",
       "      <td>2-4 years</td>\n",
       "      <td>College degree</td>\n",
       "      <td>Woman</td>\n",
       "      <td>White</td>\n",
       "      <td>110000</td>\n",
       "      <td>NaN</td>\n",
       "      <td>NaN</td>\n",
       "      <td>AUD</td>\n",
       "    </tr>\n",
       "    <tr>\n",
       "      <th>15401</th>\n",
       "      <td>4/14/2023 6:19:14</td>\n",
       "      <td>18-24</td>\n",
       "      <td>Government &amp; Public Administration</td>\n",
       "      <td>Law</td>\n",
       "      <td>Government in-house counsel</td>\n",
       "      <td>NaN</td>\n",
       "      <td>80681</td>\n",
       "      <td>0</td>\n",
       "      <td>Other</td>\n",
       "      <td>AUD</td>\n",
       "      <td>...</td>\n",
       "      <td>Hybrid</td>\n",
       "      <td>1 year or less</td>\n",
       "      <td>1 year or less</td>\n",
       "      <td>College degree</td>\n",
       "      <td>Woman</td>\n",
       "      <td>Another option not listed here or prefer not t...</td>\n",
       "      <td>80681</td>\n",
       "      <td>NaN</td>\n",
       "      <td>NaN</td>\n",
       "      <td>AUD</td>\n",
       "    </tr>\n",
       "  </tbody>\n",
       "</table>\n",
       "<p>2 rows × 24 columns</p>\n",
       "</div>"
      ],
      "text/plain": [
       "                Timestamp How old are you?  \\\n",
       "7971   4/11/2023 15:40:42            35-44   \n",
       "15401   4/14/2023 6:19:14            18-24   \n",
       "\n",
       "                                 Industry Functional area of job  \\\n",
       "7971   Government & Public Administration      Recruitment or HR   \n",
       "15401  Government & Public Administration                    Law   \n",
       "\n",
       "                                     Job title Job title - additional context  \\\n",
       "7971   Senior Consultant Leadership and Talent                            NaN   \n",
       "15401              Government in-house counsel                            NaN   \n",
       "\n",
       "       Annual salary (gross)  Additional monetary compensation Currency  \\\n",
       "7971                  110000                                 0    Other   \n",
       "15401                  80681                                 0    Other   \n",
       "\n",
       "      Currency - other  ... Remote or on-site? Years of experience, overall  \\\n",
       "7971               AUD  ...            On-site                  11-20 years   \n",
       "15401              AUD  ...             Hybrid               1 year or less   \n",
       "\n",
       "      Years of experience in field Highest level of education completed  \\\n",
       "7971                     2-4 years                       College degree   \n",
       "15401               1 year or less                       College degree   \n",
       "\n",
       "      Gender                                               Race  \\\n",
       "7971   Woman                                              White   \n",
       "15401  Woman  Another option not listed here or prefer not t...   \n",
       "\n",
       "      Total compensation GBP_exchange_rate GBP exchange rate  \\\n",
       "7971              110000               NaN               NaN   \n",
       "15401              80681               NaN               NaN   \n",
       "\n",
       "      Currency - cleaned  \n",
       "7971                 AUD  \n",
       "15401                AUD  \n",
       "\n",
       "[2 rows x 24 columns]"
      ]
     },
     "execution_count": 220,
     "metadata": {},
     "output_type": "execute_result"
    }
   ],
   "source": [
    "survey_data_no_aus[survey_data_no_aus[\"Currency - cleaned\"] == \"AUD\"]"
   ]
  },
  {
   "cell_type": "code",
   "execution_count": 221,
   "metadata": {},
   "outputs": [],
   "source": [
    "cleaned_exch_rates = survey_data_no_aus[\"Currency - cleaned\"].map(exch_map)"
   ]
  },
  {
   "cell_type": "code",
   "execution_count": 229,
   "metadata": {},
   "outputs": [],
   "source": [
    "cleaned_exch_rates = survey_data_no_aus[\"Currency - cleaned\"].map(exch_map)\n",
    "survey_data_no_aus.loc[~cleaned_exch_rates.isna(), \"GBP exchange rate\"] = cleaned_exch_rates"
   ]
  },
  {
   "cell_type": "code",
   "execution_count": 230,
   "metadata": {},
   "outputs": [
    {
     "data": {
      "text/plain": [
       "GBP exchange rate\n",
       "0.8044    14319\n",
       "0.5965     1099\n",
       "1.0000      857\n",
       "0.8700      370\n",
       "0.0761       34\n",
       "0.8936       27\n",
       "0.0058       13\n",
       "0.5989        9\n",
       "0.0768        9\n",
       "0.0440        8\n",
       "0.1028        6\n",
       "0.1906        4\n",
       "0.1168        4\n",
       "0.0362        4\n",
       "0.1604        3\n",
       "0.0450        3\n",
       "0.4955        3\n",
       "0.0097        2\n",
       "0.2201        2\n",
       "0.5362        2\n",
       "0.0023        2\n",
       "0.0006        1\n",
       "0.4448        1\n",
       "0.0349        1\n",
       "0.0001        1\n",
       "Name: count, dtype: int64"
      ]
     },
     "execution_count": 230,
     "metadata": {},
     "output_type": "execute_result"
    }
   ],
   "source": [
    "survey_data_no_aus[\"GBP exchange rate\"].value_counts()"
   ]
  },
  {
   "cell_type": "code",
   "execution_count": 232,
   "metadata": {},
   "outputs": [],
   "source": [
    "survey_data_no_aus[\"GBP\"] = survey_data_no_aus[\"Total compensation\"] * survey_data_no_aus[\"GBP exchange rate\"]"
   ]
  },
  {
   "cell_type": "code",
   "execution_count": 233,
   "metadata": {},
   "outputs": [
    {
     "data": {
      "text/plain": [
       "0        101193.52\n",
       "1         57112.40\n",
       "2         48264.00\n",
       "3         33784.80\n",
       "4         52286.00\n",
       "           ...    \n",
       "17159     69194.00\n",
       "17160     69178.40\n",
       "17161        62.64\n",
       "17162     93310.40\n",
       "17163     50194.56\n",
       "Name: GBP, Length: 16798, dtype: float64"
      ]
     },
     "execution_count": 233,
     "metadata": {},
     "output_type": "execute_result"
    }
   ],
   "source": [
    "survey_data_no_aus[\"GBP\"]"
   ]
  },
  {
   "cell_type": "code",
   "execution_count": null,
   "metadata": {},
   "outputs": [],
   "source": []
  }
 ],
 "metadata": {
  "kernelspec": {
   "display_name": "AISS-2024",
   "language": "python",
   "name": "python3"
  },
  "language_info": {
   "codemirror_mode": {
    "name": "ipython",
    "version": 3
   },
   "file_extension": ".py",
   "mimetype": "text/x-python",
   "name": "python",
   "nbconvert_exporter": "python",
   "pygments_lexer": "ipython3",
   "version": "3.12.4"
  }
 },
 "nbformat": 4,
 "nbformat_minor": 2
}
